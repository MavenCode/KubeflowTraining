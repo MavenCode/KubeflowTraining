{
  "nbformat": 4,
  "nbformat_minor": 0,
  "metadata": {
    "kernelspec": {
      "display_name": "Python 3",
      "language": "python",
      "name": "python3"
    },
    "language_info": {
      "codemirror_mode": {
        "name": "ipython",
        "version": 3
      },
      "file_extension": ".py",
      "mimetype": "text/x-python",
      "name": "python",
      "nbconvert_exporter": "python",
      "pygments_lexer": "ipython3",
      "version": "3.6.9"
    },
    "colab": {
      "name": "Copy of mnist_minio.ipynb",
      "provenance": [],
      "collapsed_sections": [],
      "include_colab_link": true
    }
  },
  "cells": [
    {
      "cell_type": "markdown",
      "metadata": {
        "id": "view-in-github",
        "colab_type": "text"
      },
      "source": [
        "<a href=\"https://colab.research.google.com/github/olufunmiruth/KubeflowTraining/blob/master/Copy_of_mnist_minio.ipynb\" target=\"_parent\"><img src=\"https://colab.research.google.com/assets/colab-badge.svg\" alt=\"Open In Colab\"/></a>"
      ]
    },
    {
      "cell_type": "markdown",
      "metadata": {
        "id": "CixW0khCftiy"
      },
      "source": [
        "# Building Pipeline with Mnist Dataset\n",
        "\n",
        "## Introduction\n",
        "[Kubeflow Pipelines](https://www.kubeflow.org/docs/pipelines/) helps with building entire workflows\n",
        "\n",
        "These steps can be triggered automatically by a CI/CD workflow or on demand from a command line or notebook.\n",
        "\n",
        "\n",
        "**Components** performs a single step in a Machine Learning workflow such (e.g. data ingestion, data preprocessing, data transformation, model training, hyperparameter tuning). \n",
        "\n",
        "**Dataset**: The MNIST database of handwritten digits, available from this page, has a training set of 60,000 examples, and a test set of 10,000 examples. It is a subset of a larger set available in Tenserflow Datasets. The digits have been size-normalized and centered in a fixed-size image.\n",
        "\n",
        "![handwritten images.png](data:image/png;base64,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)\n",
        "\n",
        "## Prerequisites\n",
        "check to see if kfp is installed:"
      ]
    },
    {
      "cell_type": "code",
      "metadata": {
        "id": "XPjMsYPbfti6"
      },
      "source": [
        "! pip3 show kfp"
      ],
      "execution_count": null,
      "outputs": []
    },
    {
      "cell_type": "markdown",
      "metadata": {
        "id": "kRVyQAU_ftjB"
      },
      "source": [
        "## 1. Configure access Minio "
      ]
    },
    {
      "cell_type": "markdown",
      "metadata": {
        "id": "V4An77H6ftjD"
      },
      "source": [
        "### Upload our Training Dataset to Minio\n",
        "\n",
        "First, we configure credentials for `mc`, the MinIO command line client.\n",
        "We then use it to create a bucket, upload the dataset to it, and set access policy so that the pipeline can download it from MinIO.\n",
        "\n",
        "Follow the steps below to download minio client\n",
        "<div class=\"alert\">\n",
        "   <code>\n",
        "    wget https://dl.min.io/client/mc/release/linux-amd64/mc\n",
        "    chmod +x mc\n",
        "    ./mc --help\n",
        "    </code>\n",
        "\n",
        "</div>"
      ]
    },
    {
      "cell_type": "code",
      "metadata": {
        "id": "kVfh5mrlftjI"
      },
      "source": [
        "! wget https://dl.min.io/client/mc/release/linux-amd64/mc\n",
        "! chmod +x mc\n",
        "! ./mc --help"
      ],
      "execution_count": null,
      "outputs": []
    },
    {
      "cell_type": "markdown",
      "metadata": {
        "id": "gkWDV22mftjM"
      },
      "source": [
        "#### a. Connect to the Minio Server"
      ]
    },
    {
      "cell_type": "code",
      "metadata": {
        "id": "I7jXoTjwftjT"
      },
      "source": [
        "! ./mc alias set minio http://minio-service.kubeflow:9000 minio minio123"
      ],
      "execution_count": null,
      "outputs": []
    },
    {
      "cell_type": "markdown",
      "metadata": {
        "id": "RiJTBzbkftjU"
      },
      "source": [
        "#### b. Create a bucket to stor your data and export your model to Minio\n",
        "\n",
        "**Make sure you clear this bucket once you are cone running your pipeline**"
      ]
    },
    {
      "cell_type": "code",
      "metadata": {
        "id": "iUU74yRWftjX"
      },
      "source": [
        "! ./mc mb minio/mnist"
      ],
      "execution_count": null,
      "outputs": []
    },
    {
      "cell_type": "markdown",
      "metadata": {
        "id": "Y6uOfgiFftjc"
      },
      "source": [
        "#### c. Upload the dataset to your bucket in Minio.\n",
        "\n",
        "**Note**: Make sure you have your dataset in a folder like we have here as <code>datasets</code>."
      ]
    },
    {
      "cell_type": "code",
      "metadata": {
        "id": "BbGNS87mftje"
      },
      "source": [
        "! tar --dereference -czf datasets.tar.gz ./datasets\n",
        "! ./mc cp datasets.tar.gz minio/mnist/datasets.tar.gz\n",
        "! ./mc policy set download minio/mnist"
      ],
      "execution_count": null,
      "outputs": []
    },
    {
      "cell_type": "markdown",
      "metadata": {
        "id": "a6JMHarPftjj"
      },
      "source": [
        "### If you have downloaded your data too many times while testing, use the following code to clear out your bucket"
      ]
    },
    {
      "cell_type": "code",
      "metadata": {
        "id": "lv0vEE2Jftjl"
      },
      "source": [
        "# ! ./mc rm --recursive --force minio/mnist"
      ],
      "execution_count": null,
      "outputs": []
    },
    {
      "cell_type": "markdown",
      "metadata": {
        "id": "jbej_wYFftjm"
      },
      "source": [
        "### Minio Server URL and Credentials"
      ]
    },
    {
      "cell_type": "code",
      "metadata": {
        "id": "fMZptZgGftjm"
      },
      "source": [
        "MINIO_SERVER='minio-service.kubeflow:9000'\n",
        "MINIO_ACCESS_KEY='minio'\n",
        "MINIO_SECRET_KEY='minio123'"
      ],
      "execution_count": null,
      "outputs": []
    },
    {
      "cell_type": "markdown",
      "metadata": {
        "id": "Lpv6YhG4ftjp"
      },
      "source": [
        "## How to Implement Kubeflow Pipelines Components\n",
        "\n",
        "In this pipeline, we have the following components:\n",
        "- MNIST dataset download component\n",
        "- Train the TensorFlow model\n",
        "- Evaluate the trained model\n",
        "- Export the trained model"
      ]
    },
    {
      "cell_type": "code",
      "metadata": {
        "id": "vUxymo4gftjq"
      },
      "source": [
        "from typing import NamedTuple\n",
        "import kfp\n",
        "import kfp.components as components\n",
        "import kfp.dsl as dsl\n",
        "from kfp.components import InputPath, OutputPath #helps define the input & output between the components"
      ],
      "execution_count": null,
      "outputs": []
    },
    {
      "cell_type": "markdown",
      "metadata": {
        "id": "wPf3QiYJftjs"
      },
      "source": [
        "### Component 1: Download the MNIST Data Set"
      ]
    },
    {
      "cell_type": "code",
      "metadata": {
        "id": "E6KJ2N-rftjs"
      },
      "source": [
        "def download_dataset(minio_server: str, data_dir: OutputPath(str)):\n",
        "    \"\"\"Download the MNIST data set to the KFP volume to share it among all steps\"\"\"\n",
        "    import urllib.request\n",
        "    import tarfile\n",
        "    import os\n",
        "    import subprocess\n",
        "\n",
        "    if not os.path.exists(data_dir):\n",
        "        os.makedirs(data_dir)\n",
        "        \n",
        "    #this url leads to your bucket\n",
        "    url = f'http://{minio_server}/mnist/datasets.tar.gz'\n",
        "    stream = urllib.request.urlopen(url)\n",
        "    tar = tarfile.open(fileobj=stream, mode=\"r|gz\")\n",
        "    tar.extractall(path=data_dir)\n",
        "    \n",
        "    subprocess.call([\"ls\", \"-lha\", data_dir])"
      ],
      "execution_count": null,
      "outputs": []
    },
    {
      "cell_type": "markdown",
      "metadata": {
        "id": "M8Xgn1Omftjt"
      },
      "source": [
        "### Component 2: Train the Model\n",
        "For both the training and evaluation we must divide the integer-valued pixel values by 255 to scale all values into the [0, 1] (floating-point) range."
      ]
    },
    {
      "cell_type": "code",
      "metadata": {
        "id": "6OwtWtgoftjt"
      },
      "source": [
        "def train_model(data_dir: InputPath(str), model_dir: OutputPath(str)):\n",
        "    \"\"\"Trains a single-layer CNN for 5 epochs using a pre-downloaded dataset.\n",
        "    Once trained, the model is persisted to `model_dir`.\"\"\"\n",
        "\n",
        "    import os\n",
        "    import tensorflow as tf\n",
        "    import tensorflow_datasets as tfds\n",
        "\n",
        "    def normalize_image(image, label):\n",
        "        \"\"\"Normalizes images: `uint8` -> `float32`\"\"\"\n",
        "        return tf.cast(image, tf.float32) / 255.0, label\n",
        "\n",
        "    model = tf.keras.models.Sequential(\n",
        "        [\n",
        "            tf.keras.layers.Flatten(input_shape=(28, 28, 1)),\n",
        "            tf.keras.layers.Dense(128, activation=\"relu\"),\n",
        "            tf.keras.layers.Dense(10, activation=\"softmax\"),\n",
        "        ]\n",
        "    )\n",
        "    model.compile(\n",
        "        loss=\"sparse_categorical_crossentropy\",\n",
        "        optimizer=tf.keras.optimizers.Adam(0.001),\n",
        "        metrics=[\"accuracy\"],\n",
        "    )\n",
        "\n",
        "\n",
        "    print(model.summary())\n",
        "    ds_train, ds_info = tfds.load(\n",
        "        \"mnist\",\n",
        "        split=\"train\",\n",
        "        shuffle_files=True,\n",
        "        as_supervised=True,\n",
        "        with_info=True,\n",
        "        download=True,\n",
        "        data_dir=f\"{data_dir}/datasets\",\n",
        "    )\n",
        "\n",
        "    ds_train = ds_train.map(\n",
        "        normalize_image, num_parallel_calls=tf.data.experimental.AUTOTUNE\n",
        "    )\n",
        "    ds_train = ds_train.cache()\n",
        "    ds_train = ds_train.shuffle(ds_info.splits[\"train\"].num_examples)\n",
        "    ds_train = ds_train.batch(128)\n",
        "    ds_train = ds_train.prefetch(tf.data.experimental.AUTOTUNE)\n",
        "\n",
        "    model.fit(\n",
        "        ds_train,\n",
        "        epochs=5,\n",
        "    )\n",
        "\n",
        "    model.save(model_dir)\n",
        "    print(f\"Model saved {model_dir}\")\n",
        "    print(os.listdir(model_dir))"
      ],
      "execution_count": null,
      "outputs": []
    },
    {
      "cell_type": "markdown",
      "metadata": {
        "id": "0GAPhTW9ftju"
      },
      "source": [
        "### Component 3: Evaluate the Model\n",
        "With the following Python function the model is evaluated.\n",
        "The metrics [metadata](https://www.kubeflow.org/docs/pipelines/sdk/pipelines-metrics/) (loss and accuracy) is available to the Kubeflow Pipelines UI.\n",
        "Metadata can automatically be visualized with output viewer(s).\n",
        "Please go [here](https://www.kubeflow.org/docs/pipelines/sdk/output-viewer/) to see how to do that."
      ]
    },
    {
      "cell_type": "code",
      "metadata": {
        "id": "B6xOy4iyftju"
      },
      "source": [
        "def evaluate_model(\n",
        "    data_dir: InputPath(str), model_dir: InputPath(str), metrics_path: OutputPath(str)\n",
        ") -> NamedTuple(\"EvaluationOutput\", [(\"mlpipeline_metrics\", \"Metrics\")]):\n",
        "    \"\"\"Loads a saved model from file and uses a pre-downloaded dataset for evaluation.\n",
        "    Model metrics are persisted to `/mlpipeline-metrics.json` for Kubeflow Pipelines\n",
        "    metadata.\"\"\"\n",
        "\n",
        "    import json\n",
        "    import tensorflow as tf\n",
        "    import tensorflow_datasets as tfds\n",
        "    from collections import namedtuple\n",
        "\n",
        "    def normalize_image(image, label):\n",
        "        return tf.cast(image, tf.float32) / 255.0, label\n",
        "\n",
        "    ds_test, ds_info = tfds.load(\n",
        "        \"mnist\",\n",
        "        split=\"test\",\n",
        "        shuffle_files=True,\n",
        "        as_supervised=True,\n",
        "        with_info=True,\n",
        "        download=True,\n",
        "        data_dir=f\"{data_dir}/datasets\",\n",
        "    )\n",
        "\n",
        "    ds_test = ds_test.map(\n",
        "        normalize_image, num_parallel_calls=tf.data.experimental.AUTOTUNE\n",
        "    )\n",
        "    ds_test = ds_test.batch(128)\n",
        "    ds_test = ds_test.cache()\n",
        "    ds_test = ds_test.prefetch(tf.data.experimental.AUTOTUNE)\n",
        "\n",
        "    model = tf.keras.models.load_model(model_dir)\n",
        "    (loss, accuracy) = model.evaluate(ds_test)\n",
        "\n",
        "    metrics = {\n",
        "        \"metrics\": [\n",
        "            {\"name\": \"loss\", \"numberValue\": str(loss), \"format\": \"PERCENTAGE\"},\n",
        "            {\"name\": \"accuracy\", \"numberValue\": str(accuracy), \"format\": \"PERCENTAGE\"},\n",
        "        ]\n",
        "    }\n",
        "\n",
        "    with open(metrics_path, \"w\") as f:\n",
        "        json.dump(metrics, f)\n",
        "\n",
        "    out_tuple = namedtuple(\"EvaluationOutput\", [\"mlpipeline_metrics\"])\n",
        "\n",
        "    return out_tuple(json.dumps(metrics))"
      ],
      "execution_count": null,
      "outputs": []
    },
    {
      "cell_type": "markdown",
      "metadata": {
        "id": "WqKWogxbftjv"
      },
      "source": [
        "### Component 4: Export the Model"
      ]
    },
    {
      "cell_type": "code",
      "metadata": {
        "id": "pZYE25u7ftjw"
      },
      "source": [
        "def export_model(\n",
        "    model_dir: InputPath(str),\n",
        "    metrics: InputPath(str),\n",
        "    export_bucket: str,\n",
        "    model_name: str,\n",
        "    model_version: int,\n",
        "    minio_server: str,\n",
        "    minio_access_key: str,\n",
        "    minio_secret_key: str,\n",
        "):\n",
        "    import os\n",
        "    import boto3\n",
        "    from botocore.client import Config\n",
        "    \n",
        "\n",
        "    s3 = boto3.client(\n",
        "        \"s3\",\n",
        "        endpoint_url=f'http://{minio_server}',\n",
        "        aws_access_key_id=minio_access_key,\n",
        "        aws_secret_access_key=minio_secret_key,\n",
        "        config=Config(signature_version=\"s3v4\"),\n",
        "    )\n",
        "\n",
        "    # Create export bucket if it does not yet exist\n",
        "    response = s3.list_buckets()\n",
        "    export_bucket_exists = False\n",
        "\n",
        "    print(response , export_bucket)\n",
        "    for bucket in response[\"Buckets\"]:\n",
        "        if bucket[\"Name\"] == export_bucket:\n",
        "            export_bucket_exists = True\n",
        "\n",
        "    if not export_bucket_exists:\n",
        "        s3.create_bucket(ACL=\"public-read-write\", Bucket=export_bucket)\n",
        "\n",
        "    # Save model files to S3\n",
        "    for root, dirs, files in os.walk(model_dir):\n",
        "        for filename in files:\n",
        "            local_path = os.path.join(root, filename)\n",
        "            s3_path = os.path.relpath(local_path, model_dir)\n",
        "\n",
        "            s3.upload_file(\n",
        "                local_path,\n",
        "                export_bucket,\n",
        "                f\"{model_name}/{model_version}/{s3_path}\",\n",
        "                ExtraArgs={\"ACL\": \"public-read\"},\n",
        "            )\n",
        "\n",
        "    response = s3.list_objects(Bucket=export_bucket)\n",
        "    print(f\"All objects in {export_bucket}:\")\n",
        "    for file in response[\"Contents\"]:\n",
        "        print(\"{}/{}\".format(export_bucket, file[\"Key\"]))"
      ],
      "execution_count": null,
      "outputs": []
    },
    {
      "cell_type": "markdown",
      "metadata": {
        "id": "dptRy72rftjw"
      },
      "source": [
        "## How to Combine the Components into a Pipeline\n",
        "Note that up to this point we have not yet used the Kubeflow Pipelines SDK!\n",
        "\n",
        "With our four components (i.e. self-contained functions) defined, we can wire up the dependencies with Kubeflow Pipelines.\n",
        "\n",
        "The call [`components.func_to_container_op(f, base_image=img)(*args)`](https://www.kubeflow.org/docs/pipelines/sdk/sdk-overview/) has the following ingredients:\n",
        "- `f` is the Python function that defines a component\n",
        "- `img` is the base (Docker) image used to package the function\n",
        "- `*args` lists the arguments to `f`\n",
        "\n",
        "What the `*args` mean is best explained by going forward through the graph:\n",
        "- `downloadOp` is the very first step and has no dependencies; it therefore has no `InputPath`.\n",
        "  Its output (i.e. `OutputPath`) is stored in `data_dir`.\n",
        "- `trainOp` needs the data downloaded from `downloadOp` and its signature lists `data_dir` (input) and `model_dir` (output).\n",
        "  So, it _depends on_ `downloadOp.output` (i.e. the previous step's output) and stores its own outputs in `model_dir`, which can be used by another step.\n",
        "  `downloadOp` is the parent of `trainOp`, as required.\n",
        "- `evaluateOp`'s function takes three arguments: `data_dir` (i.e. `downloadOp.output`), `model_dir` (i.e. `trainOp.output`), and `metrics_path`, which is where the function stores its evaluation metrics.\n",
        "  That way, `evaluateOp` can only run after the successful completion of both `downloadOp` and `trainOp`.\n",
        "- `exportOp` runs the function `export_model`, which accepts five parameters: `model_dir`, `metrics`, `export_bucket`, `model_name`, and `model_version`.\n",
        "  From where do we get the `model_dir`?\n",
        "  It is nothing but `trainOp.output`.\n",
        "  Similarly, `metrics` is `evaluateOp.output`.\n",
        "  The remaining three arguments are regular Python arguments that are static for the pipeline: they do not depend on any step's output being available.\n",
        "  Hence, they are defined without using `InputPath`."
      ]
    },
    {
      "cell_type": "code",
      "metadata": {
        "id": "H-Ep-ZcCftjx"
      },
      "source": [
        "def train_model_pipeline(\n",
        "    data_dir: str,\n",
        "    model_dir: str,\n",
        "    export_bucket: str,\n",
        "    model_name: str,\n",
        "    model_version: int,\n",
        "    minio_server: str,\n",
        "    minio_access_key: str,\n",
        "    minio_secret_key: str,\n",
        "):\n",
        "    # For GPU support, please add the \"-gpu\" suffix to the base image\n",
        "    BASE_IMAGE = \"mavencodev/minio:v.0.1\"\n",
        "\n",
        "    downloadOp = components.func_to_container_op(\n",
        "        download_dataset, base_image=BASE_IMAGE\n",
        "    )(minio_server)\n",
        "\n",
        "    trainOp = components.func_to_container_op(train_model, base_image=BASE_IMAGE)(\n",
        "        downloadOp.output\n",
        "    )\n",
        "\n",
        "    evaluateOp = components.func_to_container_op(evaluate_model, base_image=BASE_IMAGE)(\n",
        "        downloadOp.output, trainOp.output\n",
        "    )\n",
        "\n",
        "    exportOp = components.func_to_container_op(export_model, base_image=BASE_IMAGE)(\n",
        "        trainOp.output, evaluateOp.output, export_bucket, \n",
        "        model_name, model_version, minio_server, minio_access_key, minio_secret_key\n",
        "    )\n"
      ],
      "execution_count": null,
      "outputs": []
    },
    {
      "cell_type": "markdown",
      "metadata": {
        "id": "XAyPYjvPftjx"
      },
      "source": [
        "Just in case it isn't obvious: this will build the Docker images for you.\n",
        "Each image is based on `BASE_IMAGE` and includes the Python functions as executable files.\n",
        "Each component _can_ use a different base image though.\n",
        "This may come in handy if you want to have reusable components for automatic data and/or model analysis (e.g. to investigate bias).\n",
        "\n",
        "We still have to define the pipeline itself.\n",
        "Our `train_and_export` function defines dependencies but we must use the KFP domain-specific language (DSL) to register the pipeline with its components:"
      ]
    },
    {
      "cell_type": "code",
      "metadata": {
        "id": "XvLlAvWWftjy"
      },
      "source": [
        "\n",
        "def op_transformer(op):\n",
        "    op.add_pod_annotation(name=\"sidecar.istio.io/inject\", value=\"false\")\n",
        "    return op\n",
        "\n",
        "\n",
        "@dsl.pipeline(\n",
        "    name=\"End-to-End MNIST Pipeline\",\n",
        "    description=\"A sample pipeline to demonstrate multi-step model training, evaluation and export\",\n",
        ")\n",
        "def mnist_pipeline(\n",
        "    model_dir: str = \"/train/model\",\n",
        "    data_dir: str = \"/train/data\",\n",
        "    export_bucket: str = \"mnist\",\n",
        "    model_name: str = \"mnist\",\n",
        "    model_version: int = 1,\n",
        "):\n",
        "    MINIO_SERVER='minio-service.kubeflow:9000'\n",
        "    MINIO_ACCESS_KEY='minio'\n",
        "    MINIO_SECRET_KEY='minio123'\n",
        "    \n",
        "    \n",
        "    train_model_pipeline(\n",
        "        data_dir=data_dir,\n",
        "        model_dir=model_dir,\n",
        "        export_bucket=export_bucket,\n",
        "        model_name=model_name,\n",
        "        model_version=model_version,\n",
        "        minio_server=MINIO_SERVER,\n",
        "        minio_access_key=MINIO_ACCESS_KEY,\n",
        "        minio_secret_key=MINIO_SECRET_KEY,\n",
        "    )\n",
        "    \n",
        "    dsl.get_pipeline_conf().add_op_transformer(op_transformer)"
      ],
      "execution_count": null,
      "outputs": []
    },
    {
      "cell_type": "markdown",
      "metadata": {
        "id": "hHrCpL_vftjy"
      },
      "source": [
        "With that in place, let's submit the pipeline directly from our notebook:"
      ]
    },
    {
      "cell_type": "code",
      "metadata": {
        "id": "CMTb3Nhkftjy"
      },
      "source": [
        "pipeline_func = mnist_pipeline\n",
        "run_name = pipeline_func.__name__ + \" run\"\n",
        "experiment_name = \"End-to-End-Demo\"\n",
        "\n",
        "kfp.compiler.Compiler().compile(pipeline_func,  'mnist.yaml')\n",
        "    "
      ],
      "execution_count": null,
      "outputs": []
    },
    {
      "cell_type": "markdown",
      "metadata": {
        "id": "coCYWFImftjz"
      },
      "source": [
        "#### Upload the generated yaml file to create a pipeline in Kubeflow UI"
      ]
    },
    {
      "cell_type": "markdown",
      "metadata": {
        "id": "jb7UltCUftjz"
      },
      "source": [
        "##### Now delete your bucket when you have run the pipeline successfully in the Kubeflow UI."
      ]
    },
    {
      "cell_type": "code",
      "metadata": {
        "id": "9REn2GgJftj0"
      },
      "source": [
        "# ! ./mc rb minio/mnist --force"
      ],
      "execution_count": null,
      "outputs": []
    },
    {
      "cell_type": "code",
      "metadata": {
        "id": "u9mAw8ONftj0"
      },
      "source": [
        ""
      ],
      "execution_count": null,
      "outputs": []
    }
  ]
}