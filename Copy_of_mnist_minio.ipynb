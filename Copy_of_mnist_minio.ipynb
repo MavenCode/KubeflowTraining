{
  "nbformat": 4,
  "nbformat_minor": 0,
  "metadata": {
    "kernelspec": {
      "display_name": "Python 3",
      "language": "python",
      "name": "python3"
    },
    "language_info": {
      "codemirror_mode": {
        "name": "ipython",
        "version": 3
      },
      "file_extension": ".py",
      "mimetype": "text/x-python",
      "name": "python",
      "nbconvert_exporter": "python",
      "pygments_lexer": "ipython3",
      "version": "3.6.9"
    },
    "colab": {
      "name": "Copy of mnist_minio.ipynb",
      "provenance": [],
      "collapsed_sections": [],
      "include_colab_link": true
    }
  },
  "cells": [
    {
      "cell_type": "markdown",
      "metadata": {
        "id": "view-in-github",
        "colab_type": "text"
      },
      "source": [
        "<a href=\"https://colab.research.google.com/github/olufunmiruth/KubeflowTraining/blob/master/Copy_of_mnist_minio.ipynb\" target=\"_parent\"><img src=\"https://colab.research.google.com/assets/colab-badge.svg\" alt=\"Open In Colab\"/></a>"
      ]
    },
    {
      "cell_type": "markdown",
      "metadata": {
        "id": "CixW0khCftiy"
      },
      "source": [
        "# Building Pipeline with Mnist Dataset\n",
        "\n",
        "## Introduction\n",
        "[Kubeflow Pipelines](https://www.kubeflow.org/docs/pipelines/) helps with building entire workflows\n",
        "\n",
        "These steps can be triggered automatically by a CI/CD workflow or on demand from a command line or notebook.\n",
        "\n",
        "\n",
        "**Components** performs a single step in a Machine Learning workflow such (e.g. data ingestion, data preprocessing, data transformation, model training, hyperparameter tuning). \n",
        "\n",
        "**Dataset**: The MNIST database of handwritten digits, available from this page, has a training set of 60,000 examples, and a test set of 10,000 examples. It is a subset of a larger set available in Tenserflow Datasets. The digits have been size-normalized and centered in a fixed-size image.\n",
        "\n",
        "![mnist-3.0.1.png](data:image/png;base64,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)\n",
        "## Prerequisites\n",
        "check to see if kfp is installed:"
      ]
    },
    {
      "cell_type": "code",
      "metadata": {
        "id": "XPjMsYPbfti6"
      },
      "source": [
        "! pip3 show kfp"
      ],
      "execution_count": null,
      "outputs": []
    },
    {
      "cell_type": "markdown",
      "metadata": {
        "id": "kRVyQAU_ftjB"
      },
      "source": [
        "## 1. Configure access Minio "
      ]
    },
    {
      "cell_type": "markdown",
      "metadata": {
        "id": "V4An77H6ftjD"
      },
      "source": [
        "### Upload our Training Dataset to Minio\n",
        "\n",
        "First, we configure credentials for `mc`, the MinIO command line client.\n",
        "We then use it to create a bucket, upload the dataset to it, and set access policy so that the pipeline can download it from MinIO.\n",
        "\n",
        "Follow the steps below to download minio client\n",
        "<div class=\"alert\">\n",
        "   <code>\n",
        "    wget https://dl.min.io/client/mc/release/linux-amd64/mc\n",
        "    chmod +x mc\n",
        "    ./mc --help\n",
        "    </code>\n",
        "\n",
        "</div>"
      ]
    },
    {
      "cell_type": "code",
      "metadata": {
        "id": "kVfh5mrlftjI"
      },
      "source": [
        "! wget https://dl.min.io/client/mc/release/linux-amd64/mc\n",
        "! chmod +x mc\n",
        "! ./mc --help"
      ],
      "execution_count": null,
      "outputs": []
    },
    {
      "cell_type": "markdown",
      "metadata": {
        "id": "gkWDV22mftjM"
      },
      "source": [
        "#### a. Connect to the Minio Server"
      ]
    },
    {
      "cell_type": "code",
      "metadata": {
        "id": "I7jXoTjwftjT"
      },
      "source": [
        "! ./mc alias set minio http://minio-service.kubeflow:9000 minio minio123"
      ],
      "execution_count": null,
      "outputs": []
    },
    {
      "cell_type": "markdown",
      "metadata": {
        "id": "RiJTBzbkftjU"
      },
      "source": [
        "#### b. Create a bucket to stor your data and export your model to Minio\n",
        "\n",
        "**Make sure you clear this bucket once you are cone running your pipeline**"
      ]
    },
    {
      "cell_type": "code",
      "metadata": {
        "id": "iUU74yRWftjX"
      },
      "source": [
        "! ./mc mb minio/mnist"
      ],
      "execution_count": null,
      "outputs": []
    },
    {
      "cell_type": "markdown",
      "metadata": {
        "id": "Y6uOfgiFftjc"
      },
      "source": [
        "#### c. Upload the dataset to your bucket in Minio.\n",
        "\n",
        "**Note**: Make sure you have your dataset in a folder like we have here as <code>datasets</code>."
      ]
    },
    {
      "cell_type": "code",
      "metadata": {
        "id": "BbGNS87mftje"
      },
      "source": [
        "! tar --dereference -czf datasets.tar.gz ./datasets\n",
        "! ./mc cp datasets.tar.gz minio/mnist/datasets.tar.gz\n",
        "! ./mc policy set download minio/mnist"
      ],
      "execution_count": null,
      "outputs": []
    },
    {
      "cell_type": "markdown",
      "metadata": {
        "id": "a6JMHarPftjj"
      },
      "source": [
        "### If you have downloaded your data too many times while testing, use the following code to clear out your bucket"
      ]
    },
    {
      "cell_type": "code",
      "metadata": {
        "id": "lv0vEE2Jftjl"
      },
      "source": [
        "# ! ./mc rm --recursive --force minio/mnist"
      ],
      "execution_count": null,
      "outputs": []
    },
    {
      "cell_type": "markdown",
      "metadata": {
        "id": "jbej_wYFftjm"
      },
      "source": [
        "### Minio Server URL and Credentials"
      ]
    },
    {
      "cell_type": "code",
      "metadata": {
        "id": "fMZptZgGftjm"
      },
      "source": [
        "MINIO_SERVER='minio-service.kubeflow:9000'\n",
        "MINIO_ACCESS_KEY='minio'\n",
        "MINIO_SECRET_KEY='minio123'"
      ],
      "execution_count": null,
      "outputs": []
    },
    {
      "cell_type": "markdown",
      "metadata": {
        "id": "Lpv6YhG4ftjp"
      },
      "source": [
        "## How to Implement Kubeflow Pipelines Components\n",
        "\n",
        "In this pipeline, we have the following components:\n",
        "- MNIST dataset download component\n",
        "- Train the TensorFlow model\n",
        "- Evaluate the trained model\n",
        "- Export the trained model"
      ]
    },
    {
      "cell_type": "code",
      "metadata": {
        "id": "vUxymo4gftjq"
      },
      "source": [
        "from typing import NamedTuple\n",
        "import kfp\n",
        "import kfp.components as components\n",
        "import kfp.dsl as dsl\n",
        "from kfp.components import InputPath, OutputPath #helps define the input & output between the components"
      ],
      "execution_count": null,
      "outputs": []
    },
    {
      "cell_type": "markdown",
      "metadata": {
        "id": "wPf3QiYJftjs"
      },
      "source": [
        "### Component 1: Download the MNIST Data Set"
      ]
    },
    {
      "cell_type": "code",
      "metadata": {
        "id": "E6KJ2N-rftjs"
      },
      "source": [
        "def download_dataset(minio_server: str, data_dir: OutputPath(str)):\n",
        "    \"\"\"Download the MNIST data set to the KFP volume to share it among all steps\"\"\"\n",
        "    import urllib.request\n",
        "    import tarfile\n",
        "    import os\n",
        "    import subprocess\n",
        "\n",
        "    if not os.path.exists(data_dir):\n",
        "        os.makedirs(data_dir)\n",
        "        \n",
        "    #this url leads to your bucket\n",
        "    url = f'http://{minio_server}/mnist/datasets.tar.gz'\n",
        "    stream = urllib.request.urlopen(url)\n",
        "    tar = tarfile.open(fileobj=stream, mode=\"r|gz\")\n",
        "    tar.extractall(path=data_dir)\n",
        "    \n",
        "    subprocess.call([\"ls\", \"-lha\", data_dir])"
      ],
      "execution_count": null,
      "outputs": []
    },
    {
      "cell_type": "markdown",
      "metadata": {
        "id": "M8Xgn1Omftjt"
      },
      "source": [
        "### Component 2: Train the Model\n",
        "For both the training and evaluation we must divide the integer-valued pixel values by 255 to scale all values into the [0, 1] (floating-point) range."
      ]
    },
    {
      "cell_type": "code",
      "metadata": {
        "id": "6OwtWtgoftjt"
      },
      "source": [
        "def train_model(data_dir: InputPath(str), model_dir: OutputPath(str)):\n",
        "    \"\"\"Trains a single-layer CNN for 5 epochs using a pre-downloaded dataset.\n",
        "    Once trained, the model is persisted to `model_dir`.\"\"\"\n",
        "\n",
        "    import os\n",
        "    import tensorflow as tf\n",
        "    import tensorflow_datasets as tfds\n",
        "\n",
        "    def normalize_image(image, label):\n",
        "        \"\"\"Normalizes images: `uint8` -> `float32`\"\"\"\n",
        "        return tf.cast(image, tf.float32) / 255.0, label\n",
        "\n",
        "    model = tf.keras.models.Sequential(\n",
        "        [\n",
        "            tf.keras.layers.Flatten(input_shape=(28, 28, 1)),\n",
        "            tf.keras.layers.Dense(128, activation=\"relu\"),\n",
        "            tf.keras.layers.Dense(10, activation=\"softmax\"),\n",
        "        ]\n",
        "    )\n",
        "    model.compile(\n",
        "        loss=\"sparse_categorical_crossentropy\",\n",
        "        optimizer=tf.keras.optimizers.Adam(0.001),\n",
        "        metrics=[\"accuracy\"],\n",
        "    )\n",
        "\n",
        "\n",
        "    print(model.summary())\n",
        "    ds_train, ds_info = tfds.load(\n",
        "        \"mnist\",\n",
        "        split=\"train\",\n",
        "        shuffle_files=True,\n",
        "        as_supervised=True,\n",
        "        with_info=True,\n",
        "        download=True,\n",
        "        data_dir=f\"{data_dir}/datasets\",\n",
        "    )\n",
        "\n",
        "    ds_train = ds_train.map(\n",
        "        normalize_image, num_parallel_calls=tf.data.experimental.AUTOTUNE\n",
        "    )\n",
        "    ds_train = ds_train.cache()\n",
        "    ds_train = ds_train.shuffle(ds_info.splits[\"train\"].num_examples)\n",
        "    ds_train = ds_train.batch(128)\n",
        "    ds_train = ds_train.prefetch(tf.data.experimental.AUTOTUNE)\n",
        "\n",
        "    model.fit(\n",
        "        ds_train,\n",
        "        epochs=5,\n",
        "    )\n",
        "\n",
        "    model.save(model_dir)\n",
        "    print(f\"Model saved {model_dir}\")\n",
        "    print(os.listdir(model_dir))"
      ],
      "execution_count": null,
      "outputs": []
    },
    {
      "cell_type": "markdown",
      "metadata": {
        "id": "0GAPhTW9ftju"
      },
      "source": [
        "### Component 3: Evaluate the Model\n",
        "With the following Python function the model is evaluated.\n",
        "The metrics [metadata](https://www.kubeflow.org/docs/pipelines/sdk/pipelines-metrics/) (loss and accuracy) is available to the Kubeflow Pipelines UI.\n",
        "Metadata can automatically be visualized with output viewer(s).\n",
        "Please go [here](https://www.kubeflow.org/docs/pipelines/sdk/output-viewer/) to see how to do that."
      ]
    },
    {
      "cell_type": "code",
      "metadata": {
        "id": "B6xOy4iyftju"
      },
      "source": [
        "def evaluate_model(\n",
        "    data_dir: InputPath(str), model_dir: InputPath(str), metrics_path: OutputPath(str)\n",
        ") -> NamedTuple(\"EvaluationOutput\", [(\"mlpipeline_metrics\", \"Metrics\")]):\n",
        "    \"\"\"Loads a saved model from file and uses a pre-downloaded dataset for evaluation.\n",
        "    Model metrics are persisted to `/mlpipeline-metrics.json` for Kubeflow Pipelines\n",
        "    metadata.\"\"\"\n",
        "\n",
        "    import json\n",
        "    import tensorflow as tf\n",
        "    import tensorflow_datasets as tfds\n",
        "    from collections import namedtuple\n",
        "\n",
        "    def normalize_image(image, label):\n",
        "        return tf.cast(image, tf.float32) / 255.0, label\n",
        "\n",
        "    ds_test, ds_info = tfds.load(\n",
        "        \"mnist\",\n",
        "        split=\"test\",\n",
        "        shuffle_files=True,\n",
        "        as_supervised=True,\n",
        "        with_info=True,\n",
        "        download=True,\n",
        "        data_dir=f\"{data_dir}/datasets\",\n",
        "    )\n",
        "\n",
        "    ds_test = ds_test.map(\n",
        "        normalize_image, num_parallel_calls=tf.data.experimental.AUTOTUNE\n",
        "    )\n",
        "    ds_test = ds_test.batch(128)\n",
        "    ds_test = ds_test.cache()\n",
        "    ds_test = ds_test.prefetch(tf.data.experimental.AUTOTUNE)\n",
        "\n",
        "    model = tf.keras.models.load_model(model_dir)\n",
        "    (loss, accuracy) = model.evaluate(ds_test)\n",
        "\n",
        "    metrics = {\n",
        "        \"metrics\": [\n",
        "            {\"name\": \"loss\", \"numberValue\": str(loss), \"format\": \"PERCENTAGE\"},\n",
        "            {\"name\": \"accuracy\", \"numberValue\": str(accuracy), \"format\": \"PERCENTAGE\"},\n",
        "        ]\n",
        "    }\n",
        "\n",
        "    with open(metrics_path, \"w\") as f:\n",
        "        json.dump(metrics, f)\n",
        "\n",
        "    out_tuple = namedtuple(\"EvaluationOutput\", [\"mlpipeline_metrics\"])\n",
        "\n",
        "    return out_tuple(json.dumps(metrics))"
      ],
      "execution_count": null,
      "outputs": []
    },
    {
      "cell_type": "markdown",
      "metadata": {
        "id": "WqKWogxbftjv"
      },
      "source": [
        "### Component 4: Export the Model"
      ]
    },
    {
      "cell_type": "code",
      "metadata": {
        "id": "pZYE25u7ftjw"
      },
      "source": [
        "def export_model(\n",
        "    model_dir: InputPath(str),\n",
        "    metrics: InputPath(str),\n",
        "    export_bucket: str,\n",
        "    model_name: str,\n",
        "    model_version: int,\n",
        "    minio_server: str,\n",
        "    minio_access_key: str,\n",
        "    minio_secret_key: str,\n",
        "):\n",
        "    import os\n",
        "    import boto3\n",
        "    from botocore.client import Config\n",
        "    \n",
        "\n",
        "    s3 = boto3.client(\n",
        "        \"s3\",\n",
        "        endpoint_url=f'http://{minio_server}',\n",
        "        aws_access_key_id=minio_access_key,\n",
        "        aws_secret_access_key=minio_secret_key,\n",
        "        config=Config(signature_version=\"s3v4\"),\n",
        "    )\n",
        "\n",
        "    # Create export bucket if it does not yet exist\n",
        "    response = s3.list_buckets()\n",
        "    export_bucket_exists = False\n",
        "\n",
        "    print(response , export_bucket)\n",
        "    for bucket in response[\"Buckets\"]:\n",
        "        if bucket[\"Name\"] == export_bucket:\n",
        "            export_bucket_exists = True\n",
        "\n",
        "    if not export_bucket_exists:\n",
        "        s3.create_bucket(ACL=\"public-read-write\", Bucket=export_bucket)\n",
        "\n",
        "    # Save model files to S3\n",
        "    for root, dirs, files in os.walk(model_dir):\n",
        "        for filename in files:\n",
        "            local_path = os.path.join(root, filename)\n",
        "            s3_path = os.path.relpath(local_path, model_dir)\n",
        "\n",
        "            s3.upload_file(\n",
        "                local_path,\n",
        "                export_bucket,\n",
        "                f\"{model_name}/{model_version}/{s3_path}\",\n",
        "                ExtraArgs={\"ACL\": \"public-read\"},\n",
        "            )\n",
        "\n",
        "    response = s3.list_objects(Bucket=export_bucket)\n",
        "    print(f\"All objects in {export_bucket}:\")\n",
        "    for file in response[\"Contents\"]:\n",
        "        print(\"{}/{}\".format(export_bucket, file[\"Key\"]))"
      ],
      "execution_count": null,
      "outputs": []
    },
    {
      "cell_type": "markdown",
      "metadata": {
        "id": "dptRy72rftjw"
      },
      "source": [
        "## How to Combine the Components into a Pipeline\n",
        "Note that up to this point we have not yet used the Kubeflow Pipelines SDK!\n",
        "\n",
        "With our four components (i.e. self-contained functions) defined, we can wire up the dependencies with Kubeflow Pipelines.\n",
        "\n",
        "The call [`components.func_to_container_op(f, base_image=img)(*args)`](https://www.kubeflow.org/docs/pipelines/sdk/sdk-overview/) has the following ingredients:\n",
        "- `f` is the Python function that defines a component\n",
        "- `img` is the base (Docker) image used to package the function\n",
        "- `*args` lists the arguments to `f`\n",
        "\n",
        "What the `*args` mean is best explained by going forward through the graph:\n",
        "- `downloadOp` is the very first step and has no dependencies; it therefore has no `InputPath`.\n",
        "  Its output (i.e. `OutputPath`) is stored in `data_dir`.\n",
        "- `trainOp` needs the data downloaded from `downloadOp` and its signature lists `data_dir` (input) and `model_dir` (output).\n",
        "  So, it _depends on_ `downloadOp.output` (i.e. the previous step's output) and stores its own outputs in `model_dir`, which can be used by another step.\n",
        "  `downloadOp` is the parent of `trainOp`, as required.\n",
        "- `evaluateOp`'s function takes three arguments: `data_dir` (i.e. `downloadOp.output`), `model_dir` (i.e. `trainOp.output`), and `metrics_path`, which is where the function stores its evaluation metrics.\n",
        "  That way, `evaluateOp` can only run after the successful completion of both `downloadOp` and `trainOp`.\n",
        "- `exportOp` runs the function `export_model`, which accepts five parameters: `model_dir`, `metrics`, `export_bucket`, `model_name`, and `model_version`.\n",
        "  From where do we get the `model_dir`?\n",
        "  It is nothing but `trainOp.output`.\n",
        "  Similarly, `metrics` is `evaluateOp.output`.\n",
        "  The remaining three arguments are regular Python arguments that are static for the pipeline: they do not depend on any step's output being available.\n",
        "  Hence, they are defined without using `InputPath`."
      ]
    },
    {
      "cell_type": "code",
      "metadata": {
        "id": "H-Ep-ZcCftjx"
      },
      "source": [
        "def train_model_pipeline(\n",
        "    data_dir: str,\n",
        "    model_dir: str,\n",
        "    export_bucket: str,\n",
        "    model_name: str,\n",
        "    model_version: int,\n",
        "    minio_server: str,\n",
        "    minio_access_key: str,\n",
        "    minio_secret_key: str,\n",
        "):\n",
        "    # For GPU support, please add the \"-gpu\" suffix to the base image\n",
        "    BASE_IMAGE = \"mavencodev/minio:v.0.1\"\n",
        "\n",
        "    downloadOp = components.func_to_container_op(\n",
        "        download_dataset, base_image=BASE_IMAGE\n",
        "    )(minio_server)\n",
        "\n",
        "    trainOp = components.func_to_container_op(train_model, base_image=BASE_IMAGE)(\n",
        "        downloadOp.output\n",
        "    )\n",
        "\n",
        "    evaluateOp = components.func_to_container_op(evaluate_model, base_image=BASE_IMAGE)(\n",
        "        downloadOp.output, trainOp.output\n",
        "    )\n",
        "\n",
        "    exportOp = components.func_to_container_op(export_model, base_image=BASE_IMAGE)(\n",
        "        trainOp.output, evaluateOp.output, export_bucket, \n",
        "        model_name, model_version, minio_server, minio_access_key, minio_secret_key\n",
        "    )\n"
      ],
      "execution_count": null,
      "outputs": []
    },
    {
      "cell_type": "markdown",
      "metadata": {
        "id": "XAyPYjvPftjx"
      },
      "source": [
        "Just in case it isn't obvious: this will build the Docker images for you.\n",
        "Each image is based on `BASE_IMAGE` and includes the Python functions as executable files.\n",
        "Each component _can_ use a different base image though.\n",
        "This may come in handy if you want to have reusable components for automatic data and/or model analysis (e.g. to investigate bias).\n",
        "\n",
        "We still have to define the pipeline itself.\n",
        "Our `train_and_export` function defines dependencies but we must use the KFP domain-specific language (DSL) to register the pipeline with its components:"
      ]
    },
    {
      "cell_type": "code",
      "metadata": {
        "id": "XvLlAvWWftjy"
      },
      "source": [
        "\n",
        "def op_transformer(op):\n",
        "    op.add_pod_annotation(name=\"sidecar.istio.io/inject\", value=\"false\")\n",
        "    return op\n",
        "\n",
        "\n",
        "@dsl.pipeline(\n",
        "    name=\"End-to-End MNIST Pipeline\",\n",
        "    description=\"A sample pipeline to demonstrate multi-step model training, evaluation and export\",\n",
        ")\n",
        "def mnist_pipeline(\n",
        "    model_dir: str = \"/train/model\",\n",
        "    data_dir: str = \"/train/data\",\n",
        "    export_bucket: str = \"mnist\",\n",
        "    model_name: str = \"mnist\",\n",
        "    model_version: int = 1,\n",
        "):\n",
        "    MINIO_SERVER='minio-service.kubeflow:9000'\n",
        "    MINIO_ACCESS_KEY='minio'\n",
        "    MINIO_SECRET_KEY='minio123'\n",
        "    \n",
        "    \n",
        "    train_model_pipeline(\n",
        "        data_dir=data_dir,\n",
        "        model_dir=model_dir,\n",
        "        export_bucket=export_bucket,\n",
        "        model_name=model_name,\n",
        "        model_version=model_version,\n",
        "        minio_server=MINIO_SERVER,\n",
        "        minio_access_key=MINIO_ACCESS_KEY,\n",
        "        minio_secret_key=MINIO_SECRET_KEY,\n",
        "    )\n",
        "    \n",
        "    dsl.get_pipeline_conf().add_op_transformer(op_transformer)"
      ],
      "execution_count": null,
      "outputs": []
    },
    {
      "cell_type": "markdown",
      "metadata": {
        "id": "hHrCpL_vftjy"
      },
      "source": [
        "With that in place, let's submit the pipeline directly from our notebook:"
      ]
    },
    {
      "cell_type": "code",
      "metadata": {
        "id": "CMTb3Nhkftjy"
      },
      "source": [
        "pipeline_func = mnist_pipeline\n",
        "run_name = pipeline_func.__name__ + \" run\"\n",
        "experiment_name = \"End-to-End-Demo\"\n",
        "\n",
        "kfp.compiler.Compiler().compile(pipeline_func,  'mnist.yaml')\n",
        "    "
      ],
      "execution_count": null,
      "outputs": []
    },
    {
      "cell_type": "markdown",
      "metadata": {
        "id": "coCYWFImftjz"
      },
      "source": [
        "#### Upload the generated yaml file to create a pipeline in Kubeflow UI"
      ]
    },
    {
      "cell_type": "markdown",
      "metadata": {
        "id": "jb7UltCUftjz"
      },
      "source": [
        "##### Now delete your bucket when you have run the pipeline successfully in the Kubeflow UI."
      ]
    },
    {
      "cell_type": "code",
      "metadata": {
        "id": "9REn2GgJftj0"
      },
      "source": [
        "# ! ./mc rb minio/mnist --force"
      ],
      "execution_count": null,
      "outputs": []
    },
    {
      "cell_type": "code",
      "metadata": {
        "id": "u9mAw8ONftj0"
      },
      "source": [
        ""
      ],
      "execution_count": null,
      "outputs": []
    }
  ]
}