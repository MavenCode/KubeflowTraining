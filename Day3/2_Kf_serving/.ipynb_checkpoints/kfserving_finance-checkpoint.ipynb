{
 "cells": [
  {
   "cell_type": "markdown",
   "metadata": {},
   "source": [
    "### KFServing - Financial Data"
   ]
  },
  {
   "cell_type": "code",
   "execution_count": 3,
   "metadata": {},
   "outputs": [
    {
     "name": "stdout",
     "output_type": "stream",
     "text": [
      "namespace/kfserving created\r\n"
     ]
    }
   ],
   "source": [
    "# Create namespace for kfserving\n",
    "!kubectl create ns kfserving"
   ]
  },
  {
   "cell_type": "code",
   "execution_count": 4,
   "metadata": {},
   "outputs": [
    {
     "name": "stdout",
     "output_type": "stream",
     "text": [
      "namespace/kfserving labeled\r\n"
     ]
    }
   ],
   "source": [
    "# Enable Inference Service\n",
    "!kubectl label namespace kfserving serving.kubeflow.org/inferenceservice=enabled"
   ]
  },
  {
   "cell_type": "code",
   "execution_count": 13,
   "metadata": {},
   "outputs": [
    {
     "name": "stdout",
     "output_type": "stream",
     "text": [
      "inferenceservice.serving.kubeflow.org/churn created\r\n"
     ]
    }
   ],
   "source": [
    "#Apply the kferving CRD\n",
    "!kubectl apply -f kfserving.yaml -n kfserving"
   ]
  },
  {
   "cell_type": "code",
   "execution_count": 15,
   "metadata": {},
   "outputs": [
    {
     "name": "stdout",
     "output_type": "stream",
     "text": [
      "NAME                                                     READY   STATUS    RESTARTS   AGE\r\n",
      "churn-predictor-default-j2fsh-deployment-fb85cfb-27c2q   2/2     Running   0          54s\r\n"
     ]
    }
   ],
   "source": [
    "#check the status of the pods\n",
    "!kubectl get pods -n kfserving"
   ]
  },
  {
   "cell_type": "code",
   "execution_count": 16,
   "metadata": {},
   "outputs": [
    {
     "name": "stdout",
     "output_type": "stream",
     "text": [
      "NAME    URL                                  READY   DEFAULT TRAFFIC   CANARY TRAFFIC   AGE\r\n",
      "churn   http://churn.kfserving.example.com   True    100                                63s\r\n"
     ]
    }
   ],
   "source": [
    "# Check the status of the Inference service\n",
    "!kubectl get inferenceservice -n kfserving"
   ]
  },
  {
   "cell_type": "markdown",
   "metadata": {},
   "source": [
    "## Run these commands on the CLI"
   ]
  },
  {
   "cell_type": "markdown",
   "metadata": {},
   "source": [
    "### These are environmental variabled required for the prediction request"
   ]
  },
  {
   "cell_type": "code",
   "execution_count": 22,
   "metadata": {},
   "outputs": [],
   "source": [
    "export MODEL_NAME=churn"
   ]
  },
  {
   "cell_type": "code",
   "execution_count": 23,
   "metadata": {},
   "outputs": [
    {
     "name": "stdout",
     "output_type": "stream",
     "text": [
      "churn\r\n"
     ]
    }
   ],
   "source": [
    "echo $MODEL_NAME"
   ]
  },
  {
   "cell_type": "code",
   "execution_count": 43,
   "metadata": {},
   "outputs": [],
   "source": [
    "export INGRESS_HOST=$(kubectl get po -l istio=ingressgateway -n istio-system -o jsonpath='{.items[0].status.hostIP}')"
   ]
  },
  {
   "cell_type": "code",
   "execution_count": 44,
   "metadata": {},
   "outputs": [],
   "source": [
    "export INGRESS_PORT=$(kubectl -n istio-system get service istio-ingressgateway -o jsonpath='{.spec.ports[?(@.name==\"http2\")].port}')"
   ]
  },
  {
   "cell_type": "code",
   "execution_count": 45,
   "metadata": {},
   "outputs": [
    {
     "name": "stdout",
     "output_type": "stream",
     "text": [
      "[172.16.0.108]\r\n"
     ]
    }
   ],
   "source": [
    "!echo $INGRESS_HOST"
   ]
  },
  {
   "cell_type": "code",
   "execution_count": 46,
   "metadata": {},
   "outputs": [
    {
     "name": "stdout",
     "output_type": "stream",
     "text": [
      "[80]\r\n"
     ]
    }
   ],
   "source": [
    "!echo $INGRESS_PORT"
   ]
  },
  {
   "cell_type": "code",
   "execution_count": 49,
   "metadata": {},
   "outputs": [],
   "source": [
    "export SERVICE_HOSTNAME=$(kubectl get inferenceservice -n kfserving churn -o jsonpath='{.status.url}' | cut -d \"/\" -f 3)"
   ]
  },
  {
   "cell_type": "code",
   "execution_count": 56,
   "metadata": {},
   "outputs": [
    {
     "name": "stdout",
     "output_type": "stream",
     "text": [
      "[churn.kfserving.example.com]\r\n"
     ]
    }
   ],
   "source": [
    "!echo $SERVICE_HOSTNAME"
   ]
  },
  {
   "cell_type": "code",
   "execution_count": 72,
   "metadata": {},
   "outputs": [],
   "source": [
    "export INPUT_PATH=@kfserving_input.json"
   ]
  },
  {
   "cell_type": "code",
   "execution_count": 70,
   "metadata": {},
   "outputs": [
    {
     "name": "stdout",
     "output_type": "stream",
     "text": [
      "{\r\n",
      "    \"instances\": [\r\n",
      "        [0.672, 32, 6, 0.0, 2, 1, 1, 0.895494, 1, 0, 0, 0, 1]\r\n",
      "    ]\r\n",
      "}"
     ]
    }
   ],
   "source": [
    "!cat kfserving_input.json"
   ]
  },
  {
   "cell_type": "code",
   "execution_count": 75,
   "metadata": {},
   "outputs": [
    {
     "name": "stdout",
     "output_type": "stream",
     "text": [
      "*   Trying 172.16.0.108...\n",
      "* TCP_NODELAY set\n",
      "* Connected to 172.16.0.108 (172.16.0.108) port 80 (#0)\n",
      "> POST /v1/models/churn:predict HTTP/1.1\n",
      "> Host: churn.kfserving.example.com\n",
      "> User-Agent: curl/7.58.0\n",
      "> Accept: */*\n",
      "> Content-Length: 86\n",
      "> Content-Type: application/x-www-form-urlencoded\n",
      "> \n",
      "* upload completely sent off: 86 out of 86 bytes\n",
      "< HTTP/1.1 503 Service Unavailable\n",
      "< content-length: 91\n",
      "< content-type: text/plain\n",
      "< date: Sun, 07 Feb 2021 07:22:36 GMT\n",
      "< server: envoy\n",
      "< \n",
      "* Connection #0 to host 172.16.0.108 left intact\n",
      "upstream connect error or disconnect/reset before headers. reset reason: connection failure"
     ]
    }
   ],
   "source": [
    "!curl -v -H \"Host: churn.kfserving.example.com\"  http://$INGRESS_HOST:80/v1/models/$MODEL_NAME:predict -d @./kfserving_input.json"
   ]
  }
 ],
 "metadata": {
  "kernelspec": {
   "display_name": "Python 3",
   "language": "python",
   "name": "python3"
  },
  "language_info": {
   "codemirror_mode": {
    "name": "ipython",
    "version": 3
   },
   "file_extension": ".py",
   "mimetype": "text/x-python",
   "name": "python",
   "nbconvert_exporter": "python",
   "pygments_lexer": "ipython3",
   "version": "3.6.9"
  }
 },
 "nbformat": 4,
 "nbformat_minor": 4
}
