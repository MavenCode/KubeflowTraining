{
 "cells": [
  {
   "cell_type": "markdown",
   "metadata": {},
   "source": [
    "### KFServing - Financial Data"
   ]
  },
  {
   "cell_type": "code",
   "execution_count": 67,
   "metadata": {},
   "outputs": [
    {
     "name": "stdout",
     "output_type": "stream",
     "text": [
      "namespace/kfserving created\r\n"
     ]
    }
   ],
   "source": [
    "# Create namespace for kfserving\n",
    "!kubectl create ns kfserving"
   ]
  },
  {
   "cell_type": "code",
   "execution_count": 68,
   "metadata": {},
   "outputs": [
    {
     "name": "stdout",
     "output_type": "stream",
     "text": [
      "namespace/kfserving labeled\r\n"
     ]
    }
   ],
   "source": [
    "# Enable Inference Service\n",
    "!kubectl label namespace kfserving serving.kubeflow.org/inferenceservice=enabled"
   ]
  },
  {
   "cell_type": "code",
   "execution_count": 69,
   "metadata": {},
   "outputs": [
    {
     "name": "stdout",
     "output_type": "stream",
     "text": [
      "inferenceservice.serving.kubeflow.org/churn created\r\n"
     ]
    }
   ],
   "source": [
    "#Apply the kferving CRD\n",
    "!kubectl apply -f kfserving.yaml -n kfserving"
   ]
  },
  {
   "cell_type": "code",
   "execution_count": 81,
   "metadata": {},
   "outputs": [
    {
     "name": "stdout",
     "output_type": "stream",
     "text": [
      "NAME                                                        READY   STATUS    RESTARTS   AGE\r\n",
      "churn-predictor-default-ckn58-deployment-5759559657-brc4l   2/2     Running   0          15s\r\n"
     ]
    }
   ],
   "source": [
    "#check the status of the pods\n",
    "!kubectl get pods -n kfserving"
   ]
  },
  {
   "cell_type": "code",
   "execution_count": 82,
   "metadata": {},
   "outputs": [
    {
     "name": "stdout",
     "output_type": "stream",
     "text": [
      "NAME    URL                                  READY   DEFAULT TRAFFIC   CANARY TRAFFIC   AGE\r\n",
      "churn   http://churn.kfserving.example.com   True    100                                4m12s\r\n"
     ]
    }
   ],
   "source": [
    "# Check the status of the Inference service\n",
    "!kubectl get inferenceservice -n kfserving"
   ]
  },
  {
   "cell_type": "code",
   "execution_count": 12,
   "metadata": {},
   "outputs": [
    {
     "name": "stdout",
     "output_type": "stream",
     "text": [
      "[I 210216 10:35:33 initializer-entrypoint:13] Initializing, args: src_uri [gs://mavencode-churn-model/customer-churn/churn01] dest_path[ [/mnt/models]\r\n",
      "[I 210216 10:35:33 storage:35] Copying contents of gs://mavencode-churn-model/customer-churn/churn01 to local\r\n",
      "[W 210216 10:35:33 _default:246] Authentication failed using Compute Engine authentication due to unavailable metadata server.\r\n",
      "[I 210216 10:35:33 storage:111] Downloading: /mnt/models/model.joblib\r\n",
      "[I 210216 10:35:33 storage:60] Successfully copied gs://mavencode-churn-model/customer-churn/churn01 to /mnt/models\r\n"
     ]
    }
   ],
   "source": [
    "#Check the container logs - very useful for debugging\n",
    "!kubectl logs -c storage-initializer churn-predictor-default-pbs66-deployment-58cf555fb5-64vlz -n kfserving"
   ]
  },
  {
   "cell_type": "markdown",
   "metadata": {},
   "source": [
    "## Run these commands on the CLI"
   ]
  },
  {
   "cell_type": "markdown",
   "metadata": {},
   "source": [
    "### These are environmental variabled required for the prediction request"
   ]
  },
  {
   "cell_type": "code",
   "execution_count": 22,
   "metadata": {},
   "outputs": [],
   "source": [
    "export MODEL_NAME=churn"
   ]
  },
  {
   "cell_type": "code",
   "execution_count": 23,
   "metadata": {},
   "outputs": [
    {
     "name": "stdout",
     "output_type": "stream",
     "text": [
      "churn\r\n"
     ]
    }
   ],
   "source": [
    "!echo $MODEL_NAME"
   ]
  },
  {
   "cell_type": "code",
   "execution_count": 43,
   "metadata": {},
   "outputs": [],
   "source": [
    "export INGRESS_HOST=$(kubectl get po -l istio=ingressgateway -n istio-system -o jsonpath='{.items[0].status.hostIP}')"
   ]
  },
  {
   "cell_type": "code",
   "execution_count": 15,
   "metadata": {},
   "outputs": [],
   "source": [
    "export INGRESS_PORT=$(kubectl -n istio-system get service istio-ingressgateway -o jsonpath='{.spec.ports[?(@.name==\"http2\")].nodePort}')"
   ]
  },
  {
   "cell_type": "code",
   "execution_count": 45,
   "metadata": {},
   "outputs": [
    {
     "name": "stdout",
     "output_type": "stream",
     "text": [
      "[172.16.0.108]\r\n"
     ]
    }
   ],
   "source": [
    "!echo $INGRESS_HOST"
   ]
  },
  {
   "cell_type": "code",
   "execution_count": 16,
   "metadata": {},
   "outputs": [
    {
     "name": "stdout",
     "output_type": "stream",
     "text": [
      "[31380]\r\n"
     ]
    }
   ],
   "source": [
    "!echo $INGRESS_PORT"
   ]
  },
  {
   "cell_type": "code",
   "execution_count": 49,
   "metadata": {},
   "outputs": [],
   "source": [
    "export SERVICE_HOSTNAME=$(kubectl get inferenceservice -n kfserving churn -o jsonpath='{.status.url}' | cut -d \"/\" -f 3)"
   ]
  },
  {
   "cell_type": "code",
   "execution_count": 56,
   "metadata": {},
   "outputs": [
    {
     "name": "stdout",
     "output_type": "stream",
     "text": [
      "[churn.kfserving.example.com]\r\n"
     ]
    }
   ],
   "source": [
    "!echo $SERVICE_HOSTNAME"
   ]
  },
  {
   "cell_type": "code",
   "execution_count": null,
   "metadata": {},
   "outputs": [],
   "source": [
    "#navigate to the right folder\n",
    "cd KubeflowTraining/'Day 3'/'Kf serving'"
   ]
  },
  {
   "cell_type": "code",
   "execution_count": 72,
   "metadata": {},
   "outputs": [],
   "source": [
    "export INPUT_PATH=@kfserving_input.json"
   ]
  },
  {
   "cell_type": "code",
   "execution_count": 70,
   "metadata": {},
   "outputs": [
    {
     "name": "stdout",
     "output_type": "stream",
     "text": [
      "{\r\n",
      "    \"instances\": [\r\n",
      "        [0.672, 32, 6, 0.0, 2, 1, 1, 0.895494, 1, 0, 0, 0, 1]\r\n",
      "    ]\r\n",
      "}"
     ]
    }
   ],
   "source": [
    "!cat kfserving_input.json"
   ]
  },
  {
   "cell_type": "code",
   "execution_count": 13,
   "metadata": {},
   "outputs": [
    {
     "name": "stdout",
     "output_type": "stream",
     "text": [
      "* Could not resolve host: \r\n",
      "* Closing connection 0\r\n",
      "curl: (6) Could not resolve host: \r\n"
     ]
    }
   ],
   "source": [
    "!curl -v -H \"Host: ${SERVICE_HOSTNAME}\"  http://$INGRESS_HOST:$INGRESS_PORT/v1/models/$MODEL_NAME:predict -d $INPUT_PATH"
   ]
  }
 ],
 "metadata": {
  "kernelspec": {
   "display_name": "Python 3",
   "language": "python",
   "name": "python3"
  },
  "language_info": {
   "codemirror_mode": {
    "name": "ipython",
    "version": 3
   },
   "file_extension": ".py",
   "mimetype": "text/x-python",
   "name": "python",
   "nbconvert_exporter": "python",
   "pygments_lexer": "ipython3",
   "version": "3.6.9"
  }
 },
 "nbformat": 4,
 "nbformat_minor": 4
}
