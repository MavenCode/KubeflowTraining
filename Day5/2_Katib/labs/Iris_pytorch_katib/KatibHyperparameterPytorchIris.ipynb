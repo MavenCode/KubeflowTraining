{
 "cells": [
  {
   "cell_type": "markdown",
   "metadata": {},
   "source": [
    "# Hyperparameter Tuning with Katib (Pytorch)\n",
    "\n",
    "## Introduction\n",
    "\n",
    "Hyperparameter tuning is the process of optimizing a model's hyperparameter values in order to maximize the predictive quality of the model.\n",
    "Examples of such hyperparameters are the learning rate, neural architecture depth (layers) and width (nodes), epochs, batch size, dropout rate, and activation functions.\n",
    "These are the parameters that are set prior to training; unlike the model parameters (weights and biases), these do not change during the process of training the model.\n",
    "\n",
    "\n",
    "This notebook shows how you can create and configure an `Experiment` for `PyTorch` training job.\n",
    "In terms of Kubernetes, such an experiment is a custom resource handled by the Katib operator.\n",
    "\n",
    "### What You'll Need\n",
    "The Docker Container with PyTorch Operator from the previous session can be used\n",
    " - [PyTorch](../training/pytorch/MNIST%20with%20PyTorch.ipynb)\n",
    " \n",
    "The model must always accept input Hyperparameters for Tunning\n",
    "\n",
    "\n",
    "## How to Specify Hyperparameters in Your Models\n",
    "In order for Katib to be able to tweak hyperparameters it needs to know what these are called in the model.\n",
    "Beyond that, the model must specify these hyperparameters either as regular (command line) parameters or as environment variables.\n",
    "Since the model needs to be containerized, any command line parameters or environment variables must to be passed to the container that holds your model.\n",
    "By far the most common and also the recommended way is to use command line parameters that are captured with [`argparse`](https://docs.python.org/3/library/argparse.html) or similar; the trainer (function) then uses their values internally.\n",
    "\n",
    "## How to Expose Model Metrics as Objective Functions\n",
    "By default, Katib collects metrics from the standard output of a job container by using a sidecar container.\n",
    "In order to make the metrics available to Katib, they must be logged to [stdout](https://www.kubeflow.org/docs/components/hyperparameter-tuning/experiment/#metrics-collector) in the `key=value` format.\n",
    "The job output will be redirected to `/var/log/katib/metrics.log` file.\n",
    "This means that the objective function (for Katib) must match the metric's `key` in the models output.\n",
    "It's therefore possible to define custom model metrics for your use case.\n",
    "\n",
    "## How to Create Experiments\n",
    "Before we proceed, let's set up a few basic definitions that we can re-use.\n",
    "Note that you typically use (YAML) resource definitions for Kubernetes from the command line, but we shall show you how to do everything from a notebook, so that you do not have to exit your favourite environment at all!\n",
    "Of course, if you are more familiar or comfortable with `kubectl` and the command line, feel free to use a local CLI or the embedded terminals from the Jupyter Lab launch screen."
   ]
  },
  {
   "cell_type": "code",
   "execution_count": 1,
   "metadata": {},
   "outputs": [],
   "source": [
    "PYTORCH_EXPERIMENT_FILE = \"katib-pytorchjob-experiment.yaml\""
   ]
  },
  {
   "cell_type": "markdown",
   "metadata": {},
   "source": [
    "We also want to capture output from a cell with [`%%capture`](https://ipython.readthedocs.io/en/stable/interactive/magics.html#cellmagic-capture) that usually looks like `some-resource created`.\n",
    "To that end, let's define a helper function:"
   ]
  },
  {
   "cell_type": "code",
   "execution_count": 2,
   "metadata": {},
   "outputs": [],
   "source": [
    "import re\n",
    "\n",
    "from IPython.utils.capture import CapturedIO\n",
    "\n",
    "\n",
    "def get_resource(captured_io: CapturedIO) -> str:\n",
    "    \"\"\"\n",
    "    Gets a resource name from `kubectl apply -f <configuration.yaml>`.\n",
    "\n",
    "    :param str captured_io: Output captured by using `%%capture` cell magic\n",
    "    :return: Name of the Kubernetes resource\n",
    "    :rtype: str\n",
    "    :raises Exception: if the resource could not be created\n",
    "    \"\"\"\n",
    "    out = captured_io.stdout\n",
    "    matches = re.search(r\"^(.+)\\s+created\", out)\n",
    "    if matches is not None:\n",
    "        return matches.group(1)\n",
    "    else:\n",
    "        raise Exception(f\"Cannot get resource as its creation failed: {out}. It may already exist.\")"
   ]
  },
  {
   "cell_type": "markdown",
   "metadata": {},
   "source": [
    "### PyTorch: Katib PyTorchJob Experiment\n",
    "\n",
    "This example is based on the FASHION MNIST with PyTorch notebook.\n",
    "\n",
    "This model accepts several arguments:\n",
    "- `--batch-size`\n",
    "- `--epochs`\n",
    "- `--lr` (i.e. the learning rate)\n",
    "- `--momentum`\n",
    "\n",
    "For our experiment we wish to find the optimal learning rate and momentum on the test data set."
   ]
  },
  {
   "cell_type": "code",
   "execution_count": 3,
   "metadata": {},
   "outputs": [
    {
     "name": "stdout",
     "output_type": "stream",
     "text": [
      "Overwriting katib-pytorchjob-experiment.yaml\n"
     ]
    }
   ],
   "source": [
    "%%writefile $PYTORCH_EXPERIMENT_FILE\n",
    "apiVersion: \"kubeflow.org/v1beta1\"\n",
    "kind: Experiment\n",
    "metadata:\n",
    "  namespace: demo01\n",
    "  name: pytorchjob-ex2\n",
    "spec:\n",
    "  parallelTrialCount: 3\n",
    "  maxTrialCount: 12\n",
    "  maxFailedTrialCount: 3\n",
    "  objective:\n",
    "    type: minimize\n",
    "    goal: 0.2\n",
    "    objectiveMetricName: loss\n",
    "  algorithm:\n",
    "    algorithmName: random\n",
    "  parameters:\n",
    "    - name: lr\n",
    "      parameterType: double\n",
    "      feasibleSpace:\n",
    "        min: \"0.01\"\n",
    "        max: \"0.05\"\n",
    "    - name: momentum\n",
    "      parameterType: double\n",
    "      feasibleSpace:\n",
    "        min: \"0.5\"\n",
    "        max: \"0.9\"\n",
    "  trialTemplate:\n",
    "    primaryContainerName: pytorch\n",
    "    trialParameters:\n",
    "      - name: learningRate\n",
    "        description: Learning rate for the training model\n",
    "        reference: lr\n",
    "      - name: momentum\n",
    "        description: Momentum for the training model\n",
    "        reference: momentum\n",
    "    trialSpec:\n",
    "      apiVersion: \"kubeflow.org/v1\"\n",
    "      kind: PyTorchJob\n",
    "      spec:\n",
    "        pytorchReplicaSpecs:\n",
    "          Master:\n",
    "            replicas: 1\n",
    "            restartPolicy: OnFailure\n",
    "            template:\n",
    "              metadata:\n",
    "                annotations:\n",
    "                  sidecar.istio.io/inject: \"false\"\n",
    "              spec:\n",
    "                containers:\n",
    "                  - name: pytorch\n",
    "                    image: mavencodev/iris_pytorchjob:5.0\n",
    "                    command:\n",
    "                      - \"python3\"\n",
    "                      - \"/opt/iris.py\"\n",
    "                      - \"--epochs=10\"\n",
    "                      - \"--lr=${trialParameters.learningRate}\"\n",
    "                      - \"--momentum=${trialParameters.momentum}\"\n",
    "          Worker:\n",
    "            replicas: 1\n",
    "            restartPolicy: OnFailure\n",
    "            template:\n",
    "              metadata:\n",
    "                annotations:\n",
    "                  sidecar.istio.io/inject: \"false\"\n",
    "              spec:\n",
    "                containers:\n",
    "                  - name: pytorch\n",
    "                    image: mavencodev/iris_pytorchjob:5.0\n",
    "                    command:\n",
    "                      - \"python3\"\n",
    "                      - \"/opt/iris.py\"\n",
    "                      - \"--epochs=10\"\n",
    "                      - \"--lr=${trialParameters.learningRate}\"\n",
    "                      - \"--momentum=${trialParameters.momentum}\""
   ]
  },
  {
   "cell_type": "markdown",
   "metadata": {},
   "source": [
    "## How to Run and Monitor Experiments\n",
    "\n",
    "You can either execute these commands on your local machine with `kubectl` or you can run them from the notebook.\n",
    "\n",
    "To submit our experiment, we execute:"
   ]
  },
  {
   "cell_type": "code",
   "execution_count": 4,
   "metadata": {},
   "outputs": [],
   "source": [
    "%%capture kubectl_output --no-stderr\n",
    "! kubectl apply -f $PYTORCH_EXPERIMENT_FILE"
   ]
  },
  {
   "cell_type": "markdown",
   "metadata": {},
   "source": [
    "The cell magic grabs the output of the `kubectl` command and stores it in an object named `kubectl_output`.\n",
    "From there we can use the utility function we defined earlier:"
   ]
  },
  {
   "cell_type": "code",
   "execution_count": 5,
   "metadata": {},
   "outputs": [],
   "source": [
    "EXPERIMENT = get_resource(kubectl_output)"
   ]
  },
  {
   "cell_type": "markdown",
   "metadata": {},
   "source": [
    "To see the status, we can then run:"
   ]
  },
  {
   "cell_type": "code",
   "execution_count": 6,
   "metadata": {},
   "outputs": [
    {
     "name": "stdout",
     "output_type": "stream",
     "text": [
      "error: the server doesn't have a resource type \"Warning:\"\n"
     ]
    }
   ],
   "source": [
    "! kubectl describe $EXPERIMENT"
   ]
  },
  {
   "cell_type": "markdown",
   "metadata": {},
   "source": [
    "To get the list of created trials, use the following command:"
   ]
  },
  {
   "cell_type": "code",
   "execution_count": 7,
   "metadata": {},
   "outputs": [
    {
     "name": "stdout",
     "output_type": "stream",
     "text": [
      "NAME                      TYPE        STATUS   AGE\n",
      "pytorchjob-ex2-cp848tn9   Succeeded   True     6m8s\n",
      "pytorchjob-ex2-drhn5xtt   Succeeded   True     6m4s\n",
      "pytorchjob-ex2-j9fx4p8f   Succeeded   True     5m57s\n",
      "pytorchjob-ex2-jzwmzpk2   Succeeded   True     5m52s\n",
      "pytorchjob-ex2-m56k9w8l   Succeeded   True     5m44s\n",
      "pytorchjob-ex2-nwvwh6nx   Succeeded   True     6m17s\n",
      "pytorchjob-ex2-p8lx4hgn   Succeeded   True     6m17s\n",
      "pytorchjob-ex2-r5kxqrkz   Succeeded   True     6m9s\n",
      "pytorchjob-ex2-rvb5vhpg   Succeeded   True     6m17s\n",
      "pytorchjob-ex2-s7jj7w9n   Succeeded   True     5m57s\n",
      "pytorchjob-ex2-t66xzgt7   Succeeded   True     5m40s\n",
      "pytorchjob-ex2-zznbzlws   Succeeded   True     5m43s\n"
     ]
    }
   ],
   "source": [
    "! kubectl get trials.kubeflow.org -l experiment=pytorchjob-ex2"
   ]
  },
  {
   "cell_type": "code",
   "execution_count": 8,
   "metadata": {},
   "outputs": [
    {
     "name": "stdout",
     "output_type": "stream",
     "text": [
      "NAME                                                              READY   STATUS                  RESTARTS   AGE\n",
      "flo-worker-0                                                      0/1     Completed               0          16h\n",
      "flo-worker-1                                                      0/1     Completed               0          16h\n",
      "flo1-worker-0                                                     0/1     Completed               0          16h\n",
      "flo1-worker-1                                                     0/1     Completed               0          16h\n",
      "horovod-mnist-charles-driver                                      0/1     Completed               0          6h24m\n",
      "kale-demo-training-0                                              2/2     Running                 0          2d16h\n",
      "minio-covid-default-0-classifier-6dd59b964c-cb8bf                 0/3     Init:CrashLoopBackOff   352        31h\n",
      "minio-sklearn-default-0-classifier-5b95d54bb6-265rm               0/3     Init:CrashLoopBackOff   352        30h\n",
      "minio-sklearn-default-0-classifier-7545f7cfd7-chql8               0/3     Init:CrashLoopBackOff   348        30h\n",
      "ml-pipeline-ui-artifact-8669b444d8-b4n8r                          2/2     Running                 0          2d16h\n",
      "ml-pipeline-visualizationserver-744ffd6cdf-q9x26                  2/2     Running                 0          2d16h\n",
      "mnist-charles-predictor-default-4mmkl-deployment-5cc788cd9594rg   3/3     Running                 0          39h\n",
      "mnist-predictor-default-x7m5k-deployment-86bb77f569-jdnpg         3/3     Running                 0          2d8h\n",
      "mnist-s3-charles-predictor-default-k5lnc-deployment-86d74bwcn4m   3/3     Running                 0          2d8h\n",
      "mnistjob-worker-0                                                 0/1     Completed               0          17h\n",
      "mnistjob-worker-1                                                 0/1     Completed               0          17h\n",
      "mynotebook-0                                                      2/2     Running                 0          16h\n",
      "nlp-2wmnv-1122952335                                              0/2     Completed               0          4h48m\n",
      "nlp-2wmnv-1135319648                                              0/1     Completed               0          4h52m\n",
      "nlp-2wmnv-2245566416                                              0/2     Completed               0          4h52m\n",
      "nlp-2wmnv-2671332789                                              0/2     Completed               0          4h51m\n",
      "nlp-2wmnv-3016029806                                              0/1     Completed               0          4h47m\n",
      "nlp-2wmnv-405207523                                               0/2     Completed               0          4h51m\n",
      "nlp-2wmnv-815316564                                               0/2     Completed               0          4h47m\n",
      "nlp-4lgqz-2278599276                                              0/1     Completed               0          6h32m\n",
      "nlp-4lgqz-3214551636                                              0/2     Completed               0          6h32m\n",
      "nlp-4lgqz-892704207                                               0/2     Error                   0          6h31m\n",
      "nlp-k9wwx-131564234                                               0/1     Completed               0          179m\n",
      "nlp-k9wwx-1395879745                                              0/2     Completed               0          3h3m\n",
      "nlp-k9wwx-1658431503                                              0/2     Completed               0          3h4m\n",
      "nlp-k9wwx-2867840067                                              0/2     Completed               0          3h\n",
      "nlp-k9wwx-3605545620                                              0/2     Completed               0          3h10m\n",
      "nlp-k9wwx-3722338732                                              0/1     Completed               0          3h10m\n",
      "nlp-k9wwx-957208880                                               0/2     Completed               0          179m\n",
      "nlp-m59dc-1093730370                                              0/1     Completed               0          6h9m\n",
      "nlp-m59dc-1434520173                                              0/2     Completed               0          6h8m\n",
      "nlp-m59dc-1445644103                                              0/2     Completed               0          6h8m\n",
      "nlp-m59dc-1705001522                                              0/2     Completed               0          6h9m\n",
      "nlp-m59dc-293095474                                               0/2     Completed               0          6h4m\n",
      "nlp-m59dc-3560542800                                              0/1     Completed               0          6h4m\n",
      "nlp-m59dc-991328265                                               0/2     Completed               0          6h5m\n",
      "nlp-mnc9h-1782421692                                              0/2     Completed               0          5h17m\n",
      "nlp-mnc9h-2503559967                                              0/2     Completed               0          5h20m\n",
      "nlp-mnc9h-3307671543                                              0/2     Completed               0          5h16m\n",
      "nlp-mnc9h-3379593057                                              0/1     Completed               0          5h20m\n",
      "nlp-mnc9h-3528907835                                              0/1     Completed               0          5h16m\n",
      "nlp-mnc9h-3775330860                                              0/2     Completed               0          5h20m\n",
      "nlp-mnc9h-515424426                                               0/2     Completed               0          5h20m\n",
      "nlp-mrfsl-1734934590                                              0/1     Completed               0          6h18m\n",
      "nlp-mrfsl-3176083542                                              0/2     Completed               0          6h18m\n",
      "nlp-mrfsl-3207269033                                              0/2     Completed               0          6h17m\n",
      "nlp-mrfsl-343859219                                               0/2     Error                   0          6h11m\n",
      "nlp-mzkq8-122417869                                               0/1     Completed               0          3h55m\n",
      "nlp-mzkq8-2386701830                                              0/2     Completed               0          3h54m\n",
      "nlp-mzkq8-2811843731                                              0/2     Completed               0          3h51m\n",
      "nlp-mzkq8-3226524679                                              0/1     Completed               0          3h51m\n",
      "nlp-mzkq8-346909008                                               0/2     Completed               0          3h51m\n",
      "nlp-mzkq8-4173727411                                              0/2     Completed               0          3h54m\n",
      "nlp-mzkq8-4226569096                                              0/2     Completed               0          3h54m\n",
      "nlp-v4kcc-1575664247                                              0/2     Completed               0          4h1m\n",
      "nlp-v4kcc-2441847199                                              0/2     Completed               0          4h5m\n",
      "nlp-v4kcc-2464239547                                              0/1     Completed               0          4h1m\n",
      "nlp-v4kcc-3200857516                                              0/2     Completed               0          4h5m\n",
      "nlp-v4kcc-3391516385                                              0/1     Completed               0          4h5m\n",
      "nlp-v4kcc-448669738                                               0/2     Completed               0          4h5m\n",
      "nlp-v4kcc-50414396                                                0/2     Completed               0          4h2m\n",
      "nlp-zqcf2-2575091876                                              1/2     ImagePullBackOff        0          6h36m\n",
      "nlp-zqcf2-4137358940                                              0/1     Completed               0          6h36m\n",
      "pytorchjob-ex2-random-584775cf46-7b5td                            1/1     Running                 0          6m31s\n",
      "seldon-3eb5ce81d1d13fab2d747d134f1827b0-7745b9b6c7-4hkmg          1/6     ImagePullBackOff        0          5h16m\n",
      "seldon-655dc0236cf8d1a43e0a21a569102138-7c6d8cc578-4mkhr          1/6     CrashLoopBackOff        196        3h51m\n",
      "seldon-908ab68a3f426bd5fc01b327059542e9-7f47c84bd9-bz5m6          1/6     CrashLoopBackOff        156        179m\n",
      "seldon-92a927e5e90d7602e08ba9b9304f70e8-86f6dd9fb5-swz54          3/3     Running                 0          27h\n",
      "sklearn-default-0-classifier-669575c487-622jl                     3/3     Running                 0          29h\n",
      "xgboost-default-0-classifier-57ff658ccc-czdgt                     3/3     Running                 0          28h\n"
     ]
    }
   ],
   "source": [
    "! kubectl get pods"
   ]
  },
  {
   "cell_type": "markdown",
   "metadata": {},
   "source": [
    "After the experiment is completed, use `describe` to get the best trial results:"
   ]
  },
  {
   "cell_type": "code",
   "execution_count": 9,
   "metadata": {},
   "outputs": [
    {
     "name": "stdout",
     "output_type": "stream",
     "text": [
      "error: the server doesn't have a resource type \"Warning:\"\n"
     ]
    }
   ],
   "source": [
    "! kubectl describe $EXPERIMENT"
   ]
  },
  {
   "cell_type": "markdown",
   "metadata": {},
   "source": [
    "The relevant section of the output looks like this:\n",
    "    \n",
    "```yaml\n",
    "Name:         katib-pytorchjob-experiment\n",
    "...\n",
    "Status:\n",
    "  ...\n",
    "  Current Optimal Trial:\n",
    "    Best Trial Name:  katib-pytorchjob-experiment-jv4sc9q7\n",
    "    Observation:\n",
    "      Metrics:\n",
    "        Name:   accuracy\n",
    "        Value:  0.9902\n",
    "    Parameter Assignments:\n",
    "      Name:    --lr\n",
    "      Value:   0.5512569257804198\n",
    "  ...\n",
    "  Trials:            6\n",
    "  Trials Succeeded:  6\n",
    "...\n",
    "```"
   ]
  },
  {
   "cell_type": "markdown",
   "metadata": {},
   "source": [
    "## Delete Katib Job Runs to Free up resources"
   ]
  },
  {
   "cell_type": "code",
   "execution_count": 10,
   "metadata": {},
   "outputs": [
    {
     "name": "stdout",
     "output_type": "stream",
     "text": [
      "experiment.kubeflow.org \"pytorchjob-ex2\" deleted\n"
     ]
    }
   ],
   "source": [
    "! kubectl delete -f $PYTORCH_EXPERIMENT_FILE"
   ]
  },
  {
   "cell_type": "markdown",
   "metadata": {},
   "source": [
    "Check to see if the check to see if the pod is still up and running "
   ]
  },
  {
   "cell_type": "code",
   "execution_count": 11,
   "metadata": {},
   "outputs": [
    {
     "name": "stdout",
     "output_type": "stream",
     "text": [
      "Error from server (NotFound): pods \"pytorchjob-ex2\" not found\n"
     ]
    }
   ],
   "source": [
    "! kubectl -n demo01 logs -f pytorchjob-ex2"
   ]
  },
  {
   "cell_type": "code",
   "execution_count": null,
   "metadata": {},
   "outputs": [],
   "source": []
  }
 ],
 "metadata": {
  "kernelspec": {
   "display_name": "Python 3",
   "language": "python",
   "name": "python3"
  },
  "language_info": {
   "codemirror_mode": {
    "name": "ipython",
    "version": 3
   },
   "file_extension": ".py",
   "mimetype": "text/x-python",
   "name": "python",
   "nbconvert_exporter": "python",
   "pygments_lexer": "ipython3",
   "version": "3.6.9"
  }
 },
 "nbformat": 4,
 "nbformat_minor": 4
}
