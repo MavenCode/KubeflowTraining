{
 "cells": [
  {
   "cell_type": "markdown",
   "metadata": {},
   "source": [
    "# Hyperparameter Tuning with Katib (Tensorflow)\n",
    "\n",
    "## Introduction\n",
    "\n",
    "Hyperparameter tuning is the process of optimizing a model's hyperparameter values in order to maximize the predictive quality of the model.\n",
    "Examples of such hyperparameters are the learning rate, neural architecture depth (layers) and width (nodes), epochs, batch size, dropout rate, and activation functions.\n",
    "These are the parameters that are set prior to training; unlike the model parameters (weights and biases), these do not change during the process of training the model.\n",
    "\n",
    "\n",
    "This notebook shows how you can create and configure an `Experiment` for `TensorFlow` training job.\n",
    "In terms of Kubernetes, such an experiment is a custom resource handled by the Katib operator.\n",
    "\n",
    "### What You'll Need\n",
    "The Docker Container with TensorFlow Operator from the previous session can be used\n",
    " - [TensorFlow](../training/tensorflow/MNIST%20with%20TensorFlow.ipynb) \n",
    " \n",
    "The model must always accept input Hyperparameters for Tunning\n",
    "\n",
    "\n",
    "## How to Specify Hyperparameters in Your Models\n",
    "In order for Katib to be able to tweak hyperparameters it needs to know what these are called in the model.\n",
    "Beyond that, the model must specify these hyperparameters either as regular (command line) parameters or as environment variables.\n",
    "Since the model needs to be containerized, any command line parameters or environment variables must to be passed to the container that holds your model.\n",
    "By far the most common and also the recommended way is to use command line parameters that are captured with [`argparse`](https://docs.python.org/3/library/argparse.html) or similar; the trainer (function) then uses their values internally.\n",
    "\n",
    "## How to Expose Model Metrics as Objective Functions\n",
    "By default, Katib collects metrics from the standard output of a job container by using a sidecar container.\n",
    "In order to make the metrics available to Katib, they must be logged to [stdout](https://www.kubeflow.org/docs/components/hyperparameter-tuning/experiment/#metrics-collector) in the `key=value` format.\n",
    "The job output will be redirected to `/var/log/katib/metrics.log` file.\n",
    "This means that the objective function (for Katib) must match the metric's `key` in the models output.\n",
    "It's therefore possible to define custom model metrics for your use case.\n",
    "\n",
    "## How to Create Experiments\n",
    "Before we proceed, let's set up a few basic definitions that we can re-use.\n",
    "Note that you typically use (YAML) resource definitions for Kubernetes from the command line, but we shall show you how to do everything from a notebook, so that you do not have to exit your favourite environment at all!\n",
    "Of course, if you are more familiar or comfortable with `kubectl` and the command line, feel free to use a local CLI or the embedded terminals from the Jupyter Lab launch screen."
   ]
  },
  {
   "cell_type": "code",
   "execution_count": null,
   "metadata": {},
   "outputs": [],
   "source": [
    "TF_EXPERIMENT_FILE = \"katibchurn-tfjob-experiment.yaml\""
   ]
  },
  {
   "cell_type": "code",
   "execution_count": null,
   "metadata": {},
   "outputs": [],
   "source": [
    "import re\n",
    "\n",
    "from IPython.utils.capture import CapturedIO\n",
    "\n",
    "\n",
    "def get_resource(captured_io: CapturedIO) -> str:\n",
    "    \"\"\"\n",
    "    Gets a resource name from `kubectl apply -f <configuration.yaml>`.\n",
    "\n",
    "    :param str captured_io: Output captured by using `%%capture` cell magic\n",
    "    :return: Name of the Kubernetes resource\n",
    "    :rtype: str\n",
    "    :raises Exception: if the resource could not be created\n",
    "    \"\"\"\n",
    "    out = captured_io.stdout\n",
    "    matches = re.search(r\"^(.+)\\s+created\", out)\n",
    "    if matches is not None:\n",
    "        return matches.group(1)\n",
    "    else:\n",
    "        raise Exception(f\"Cannot get resource as its creation failed: {out}. It may already exist.\")"
   ]
  },
  {
   "cell_type": "markdown",
   "metadata": {},
   "source": [
    "### TensorFlow: Katib TFJob Experiment\n",
    "\n",
    "The `TFJob` definition for this example is based on the churn notebook showed earlier.\n",
    "\n",
    "This model accepts several arguments:\n",
    "- `--batch-size`\n",
    "- `--buffer-size`\n",
    "- `--epochs`\n",
    "- `--steps`\n",
    "- `--learning-rate`\n",
    "- `--optimizer`\n",
    "\n",
    "For our experiment, we want to focus on the learning rate, batch-size and optimizer.\n",
    "The following YAML file describes an `Experiment` object:"
   ]
  },
  {
   "cell_type": "code",
   "execution_count": null,
   "metadata": {},
   "outputs": [],
   "source": [
    "%%writefile $TF_EXPERIMENT_FILE\n",
    "apiVersion: \"kubeflow.org/v1beta1\"\n",
    "kind: Experiment\n",
    "metadata:\n",
    "  namespace: demo01\n",
    "  name: churn\n",
    "spec:\n",
    "  parallelTrialCount: 3\n",
    "  maxTrialCount: 12\n",
    "  maxFailedTrialCount: 3\n",
    "  objective:\n",
    "    type: maximize\n",
    "    goal: 0.8\n",
    "    objectiveMetricName: accuracy\n",
    "  algorithm:\n",
    "    algorithmName: random\n",
    "  metricsCollectorSpec:\n",
    "    kind: StdOut\n",
    "  parameters:\n",
    "    - name: learning_rate\n",
    "      parameterType: double\n",
    "      feasibleSpace:\n",
    "        min: \"0.01\"\n",
    "        max: \"0.1\"\n",
    "    - name: batch_size\n",
    "      parameterType: int\n",
    "      feasibleSpace:\n",
    "        min: \"50\"\n",
    "        max: \"100\"\n",
    "    - name: optimizer\n",
    "      parameterType: categorical\n",
    "      feasibleSpace:\n",
    "        list:\n",
    "          - rmsprop\n",
    "          - adam\n",
    "  trialTemplate:\n",
    "    primaryContainerName: tensorflow\n",
    "    trialParameters:\n",
    "      - name: learningRate\n",
    "        description: Learning rate for the training model\n",
    "        reference: learning_rate\n",
    "      - name: batchSize\n",
    "        description: Batch Size\n",
    "        reference: batch_size\n",
    "      - name: optimizer\n",
    "        description: Training model optimizer (sdg, adam)\n",
    "        reference: optimizer\n",
    "    trialSpec:\n",
    "      apiVersion: \"kubeflow.org/v1\"\n",
    "      kind: TFJob\n",
    "      spec:\n",
    "        tfReplicaSpecs:\n",
    "          Worker:\n",
    "            replicas: 1\n",
    "            restartPolicy: OnFailure\n",
    "            template:\n",
    "              metadata:\n",
    "                annotations:\n",
    "                  sidecar.istio.io/inject: \"false\"\n",
    "              spec:\n",
    "                containers:\n",
    "                  - name: tensorflow\n",
    "                    image: mavencodev/tf_jobchurn:1.0\n",
    "                    command:\n",
    "                      - \"python\"\n",
    "                      - \"/tfjobchurn.py\"\n",
    "                      - \"--batch_size=${trialParameters.batchSize}\"\n",
    "                      - \"--learning_rate=${trialParameters.learningRate}\"\n",
    "                      - \"--optimizer=${trialParameters.optimizer}\""
   ]
  },
  {
   "cell_type": "markdown",
   "metadata": {},
   "source": [
    "## How to Run and Monitor Experiments\n",
    "\n",
    "You can either execute these commands on your local machine with `kubectl` or you can run them from the notebook.\n",
    "\n",
    "To submit our experiment, we execute:"
   ]
  },
  {
   "cell_type": "code",
   "execution_count": null,
   "metadata": {},
   "outputs": [],
   "source": [
    "%%capture kubectl_output --no-stderr\n",
    "! kubectl apply -f $TF_EXPERIMENT_FILE"
   ]
  },
  {
   "cell_type": "markdown",
   "metadata": {},
   "source": [
    "The cell magic grabs the output of the `kubectl` command and stores it in an object named `kubectl_output`.\n",
    "From there we can use the utility function we defined earlier:"
   ]
  },
  {
   "cell_type": "code",
   "execution_count": null,
   "metadata": {},
   "outputs": [],
   "source": [
    "EXPERIMENT = get_resource(kubectl_output)"
   ]
  },
  {
   "cell_type": "markdown",
   "metadata": {},
   "source": [
    "To see the status, we can then run:"
   ]
  },
  {
   "cell_type": "code",
   "execution_count": null,
   "metadata": {},
   "outputs": [],
   "source": [
    "! kubectl describe $EXPERIMENT"
   ]
  },
  {
   "cell_type": "markdown",
   "metadata": {},
   "source": [
    "To get the list of created experiments, use the following command:"
   ]
  },
  {
   "cell_type": "code",
   "execution_count": null,
   "metadata": {},
   "outputs": [],
   "source": [
    "! kubectl get experiments"
   ]
  },
  {
   "cell_type": "markdown",
   "metadata": {},
   "source": [
    "To get the list of created trials, use the following command:"
   ]
  },
  {
   "cell_type": "code",
   "execution_count": null,
   "metadata": {},
   "outputs": [],
   "source": [
    "! kubectl get trials"
   ]
  },
  {
   "cell_type": "markdown",
   "metadata": {},
   "source": [
    "After the experiment is completed, use `describe` to get the best trial results:"
   ]
  },
  {
   "cell_type": "code",
   "execution_count": null,
   "metadata": {},
   "outputs": [],
   "source": [
    "! kubectl describe $EXPERIMENT"
   ]
  },
  {
   "cell_type": "markdown",
   "metadata": {},
   "source": [
    "The relevant section of the output looks like this:\n",
    "    \n",
    "```yaml\n",
    "Name:         katib-tfjob-experiment\n",
    "...\n",
    "Status:\n",
    "  ...\n",
    "  Current Optimal Trial:\n",
    "    Best Trial Name:  katib-tfjob-experiment-jv4sc9q7\n",
    "    Observation:\n",
    "      Metrics:\n",
    "        Name:   accuracy\n",
    "        Value:  0.9902\n",
    "    Parameter Assignments:\n",
    "      Name:    --lr\n",
    "      Value:   0.5512569257804198\n",
    "  ...\n",
    "  Trials:            3\n",
    "  Trials Succeeded:  3\n",
    "...\n",
    "```"
   ]
  },
  {
   "cell_type": "markdown",
   "metadata": {},
   "source": [
    "## Delete Katib Job Runs to Free up resources"
   ]
  },
  {
   "cell_type": "code",
   "execution_count": null,
   "metadata": {},
   "outputs": [],
   "source": [
    "! kubectl delete -f $TF_EXPERIMENT_FILE"
   ]
  },
  {
   "cell_type": "markdown",
   "metadata": {},
   "source": [
    "Check to see if the check to see if the pod is still up and running "
   ]
  },
  {
   "cell_type": "code",
   "execution_count": null,
   "metadata": {},
   "outputs": [],
   "source": [
    "! kubectl -n demo01 logs -f churn"
   ]
  },
  {
   "cell_type": "code",
   "execution_count": null,
   "metadata": {},
   "outputs": [],
   "source": []
  }
 ],
 "metadata": {
  "kernelspec": {
   "display_name": "Python 3",
   "language": "python",
   "name": "python3"
  },
  "language_info": {
   "codemirror_mode": {
    "name": "ipython",
    "version": 3
   },
   "file_extension": ".py",
   "mimetype": "text/x-python",
   "name": "python",
   "nbconvert_exporter": "python",
   "pygments_lexer": "ipython3",
   "version": "3.6.9"
  }
 },
 "nbformat": 4,
 "nbformat_minor": 4
}
