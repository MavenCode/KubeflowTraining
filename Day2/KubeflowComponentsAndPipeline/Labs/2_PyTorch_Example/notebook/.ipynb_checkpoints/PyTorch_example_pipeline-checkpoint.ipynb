{
 "cells": [
  {
   "cell_type": "code",
   "execution_count": null,
   "metadata": {},
   "outputs": [],
   "source": [
    "#!python -m pip install --user --upgrade pip"
   ]
  },
  {
   "cell_type": "code",
   "execution_count": null,
   "metadata": {},
   "outputs": [],
   "source": [
    "import kfp\n",
    "from kfp import dsl"
   ]
  },
  {
   "cell_type": "markdown",
   "metadata": {},
   "source": [
    "### component that obtains data"
   ]
  },
  {
   "cell_type": "code",
   "execution_count": null,
   "metadata": {},
   "outputs": [],
   "source": [
    "def obtain_data_op():\n",
    "    return dsl.ContainerOp(\n",
    "        name = 'Obtain Data',\n",
    "        image = ,\n",
    "        arguments = [],\n",
    "        file_outputs={\n",
    "            'data': '/obtain_data/data'\n",
    "        }      \n",
    "    )"
   ]
  },
  {
   "cell_type": "markdown",
   "metadata": {},
   "source": [
    "### component that does preprocessing"
   ]
  },
  {
   "cell_type": "code",
   "execution_count": null,
   "metadata": {},
   "outputs": [],
   "source": [
    "def preprocess_op(data):\n",
    "    return dsl.ContainerOp(\n",
    "        name = 'Preprocess Data',\n",
    "        image = \n",
    "        arguments = [\n",
    "            '--data', data\n",
    "        ],\n",
    "        file_outputs={\n",
    "            'X_train':'/preprocess_data/X_train.npy',\n",
    "            'X_test':'/preprocess_data/X_test.npy',\n",
    "            'y_train':'/preprocess_data/y_train.npy',\n",
    "            'y_test':'/preprocess_data/y_test.npy'     \n",
    "        }\n",
    "    )"
   ]
  },
  {
   "cell_type": "markdown",
   "metadata": {},
   "source": [
    "### component for making custome data loaders"
   ]
  },
  {
   "cell_type": "code",
   "execution_count": null,
   "metadata": {},
   "outputs": [],
   "source": [
    "def dataloader_op(data):\n",
    "    return dsl.ContainerOp(\n",
    "        name = 'DataLoader',\n",
    "        image = \n",
    "        arguments = [\n",
    "            '--X_train', X_train,\n",
    "            '--X_test', X_test,\n",
    "            '--y_train', y_train, \n",
    "        ],\n",
    "        file_outputs={\n",
    "            'train_loader':'/dataloader/train_loader',\n",
    "            'test_loader':'/dataloader/test_loader',     \n",
    "        }\n",
    "    )"
   ]
  },
  {
   "cell_type": "markdown",
   "metadata": {},
   "source": [
    "### component for training the model"
   ]
  },
  {
   "cell_type": "code",
   "execution_count": null,
   "metadata": {},
   "outputs": [],
   "source": [
    "def train_op(X_train, y_train):\n",
    "    return dsl.ContainerOp(\n",
    "        name = 'Train Model',\n",
    "        image = ,\n",
    "        arguments = [\n",
    "            '--X_train', X_train,\n",
    "            '--y_train', y_train ,\n",
    "            '--train_loader',train_loader\n",
    "        ],\n",
    "        file_outputs={\n",
    "            'model':'/train_data/classifier.h5'\n",
    "        }\n",
    "    )"
   ]
  },
  {
   "cell_type": "markdown",
   "metadata": {},
   "source": [
    "### components for predicting on the test data"
   ]
  },
  {
   "cell_type": "code",
   "execution_count": null,
   "metadata": {},
   "outputs": [],
   "source": [
    "def predict_op(y_test, model, test_loader):\n",
    "    return dsl.ContainerOp(\n",
    "        name='Predict Model',\n",
    "        image=\n",
    "        arguments = [\n",
    "            '--y_test', y_test,\n",
    "            '--model', model,\n",
    "            '--test_loader',test_loader\n",
    "        ],\n",
    "        file_outputs={\n",
    "            'results':'/predict_data/predictions'\n",
    "        }\n",
    "    )"
   ]
  },
  {
   "cell_type": "markdown",
   "metadata": {},
   "source": [
    "### Defining pipeline and including its components"
   ]
  },
  {
   "cell_type": "code",
   "execution_count": null,
   "metadata": {},
   "outputs": [],
   "source": []
  }
 ],
 "metadata": {
  "kernelspec": {
   "display_name": "Python 3",
   "language": "python",
   "name": "python3"
  },
  "language_info": {
   "codemirror_mode": {
    "name": "ipython",
    "version": 3
   },
   "file_extension": ".py",
   "mimetype": "text/x-python",
   "name": "python",
   "nbconvert_exporter": "python",
   "pygments_lexer": "ipython3",
   "version": "3.7.1"
  }
 },
 "nbformat": 4,
 "nbformat_minor": 2
}
