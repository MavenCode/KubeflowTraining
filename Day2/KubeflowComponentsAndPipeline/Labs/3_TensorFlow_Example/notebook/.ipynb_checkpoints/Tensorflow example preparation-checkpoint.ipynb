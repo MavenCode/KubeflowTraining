{
 "cells": [
  {
   "cell_type": "markdown",
   "metadata": {},
   "source": [
    "### Customer retention Analytics\n",
    "\n",
    "##### Business Problem:\n",
    "An International bank collected a sample data of 10,000 customers. They observed that some of their custimers are leaving or churning in an unusually high rate and they want to find understand and access why their customers keep leaving. They have hiered you as a data scientist to look into the data to give then some insight.\n",
    "\n",
    "##### Data:\n",
    "The data was collected within the last 5 months, the feautures include the customer's name, creditscore, geography, gendey,age,tenure,balnce, number of products(accounts),credit card status(whether they have one or not), estimated salary, activity status(active member or not) and if the customer remained with them.\n",
    "\n",
    "#### Goal:\n",
    "Your goal is to create a geodemographic segmentation  to identify which of the customers have the highest risk of leaving."
   ]
  },
  {
   "cell_type": "code",
   "execution_count": 1,
   "metadata": {},
   "outputs": [
    {
     "name": "stderr",
     "output_type": "stream",
     "text": [
      "Using TensorFlow backend.\n"
     ]
    }
   ],
   "source": [
    "#importing the necessary libraries\n",
    "import numpy as np\n",
    "import pandas as pd\n",
    "import matplotlib.pyplot as plt\n",
    "import seaborn as sns\n",
    "from sklearn.preprocessing import LabelEncoder\n",
    "from sklearn.preprocessing import OneHotEncoder\n",
    "from sklearn.model_selection import train_test_split\n",
    "from sklearn.preprocessing import StandardScaler\n",
    "import tensorflow\n",
    "import keras\n",
    "from keras.models import Sequential\n",
    "from keras.layers import Dense\n",
    "from sklearn.metrics import classification_report, confusion_matrix"
   ]
  },
  {
   "cell_type": "markdown",
   "metadata": {},
   "source": [
    "### Working on a banking dataset to detect churn activities"
   ]
  },
  {
   "cell_type": "code",
   "execution_count": 3,
   "metadata": {},
   "outputs": [],
   "source": [
    "#importing the data\n",
    "data = pd.read_csv(\"https://raw.githubusercontent.com/MavenCode/KubeflowTraining/master/Data/Churn_Modelling.csv\")"
   ]
  },
  {
   "cell_type": "code",
   "execution_count": 4,
   "metadata": {},
   "outputs": [
    {
     "data": {
      "text/html": [
       "<div>\n",
       "<style scoped>\n",
       "    .dataframe tbody tr th:only-of-type {\n",
       "        vertical-align: middle;\n",
       "    }\n",
       "\n",
       "    .dataframe tbody tr th {\n",
       "        vertical-align: top;\n",
       "    }\n",
       "\n",
       "    .dataframe thead th {\n",
       "        text-align: right;\n",
       "    }\n",
       "</style>\n",
       "<table border=\"1\" class=\"dataframe\">\n",
       "  <thead>\n",
       "    <tr style=\"text-align: right;\">\n",
       "      <th></th>\n",
       "      <th>RowNumber</th>\n",
       "      <th>CustomerId</th>\n",
       "      <th>Surname</th>\n",
       "      <th>CreditScore</th>\n",
       "      <th>Geography</th>\n",
       "      <th>Gender</th>\n",
       "      <th>Age</th>\n",
       "      <th>Tenure</th>\n",
       "      <th>Balance</th>\n",
       "      <th>NumOfProducts</th>\n",
       "      <th>HasCrCard</th>\n",
       "      <th>IsActiveMember</th>\n",
       "      <th>EstimatedSalary</th>\n",
       "      <th>Exited</th>\n",
       "    </tr>\n",
       "  </thead>\n",
       "  <tbody>\n",
       "    <tr>\n",
       "      <th>0</th>\n",
       "      <td>1</td>\n",
       "      <td>15634602</td>\n",
       "      <td>Hargrave</td>\n",
       "      <td>619</td>\n",
       "      <td>France</td>\n",
       "      <td>Female</td>\n",
       "      <td>42</td>\n",
       "      <td>2</td>\n",
       "      <td>0.00</td>\n",
       "      <td>1</td>\n",
       "      <td>1</td>\n",
       "      <td>1</td>\n",
       "      <td>101348.88</td>\n",
       "      <td>1</td>\n",
       "    </tr>\n",
       "    <tr>\n",
       "      <th>1</th>\n",
       "      <td>2</td>\n",
       "      <td>15647311</td>\n",
       "      <td>Hill</td>\n",
       "      <td>608</td>\n",
       "      <td>Spain</td>\n",
       "      <td>Female</td>\n",
       "      <td>41</td>\n",
       "      <td>1</td>\n",
       "      <td>83807.86</td>\n",
       "      <td>1</td>\n",
       "      <td>0</td>\n",
       "      <td>1</td>\n",
       "      <td>112542.58</td>\n",
       "      <td>0</td>\n",
       "    </tr>\n",
       "    <tr>\n",
       "      <th>2</th>\n",
       "      <td>3</td>\n",
       "      <td>15619304</td>\n",
       "      <td>Onio</td>\n",
       "      <td>502</td>\n",
       "      <td>France</td>\n",
       "      <td>Female</td>\n",
       "      <td>42</td>\n",
       "      <td>8</td>\n",
       "      <td>159660.80</td>\n",
       "      <td>3</td>\n",
       "      <td>1</td>\n",
       "      <td>0</td>\n",
       "      <td>113931.57</td>\n",
       "      <td>1</td>\n",
       "    </tr>\n",
       "    <tr>\n",
       "      <th>3</th>\n",
       "      <td>4</td>\n",
       "      <td>15701354</td>\n",
       "      <td>Boni</td>\n",
       "      <td>699</td>\n",
       "      <td>France</td>\n",
       "      <td>Female</td>\n",
       "      <td>39</td>\n",
       "      <td>1</td>\n",
       "      <td>0.00</td>\n",
       "      <td>2</td>\n",
       "      <td>0</td>\n",
       "      <td>0</td>\n",
       "      <td>93826.63</td>\n",
       "      <td>0</td>\n",
       "    </tr>\n",
       "    <tr>\n",
       "      <th>4</th>\n",
       "      <td>5</td>\n",
       "      <td>15737888</td>\n",
       "      <td>Mitchell</td>\n",
       "      <td>850</td>\n",
       "      <td>Spain</td>\n",
       "      <td>Female</td>\n",
       "      <td>43</td>\n",
       "      <td>2</td>\n",
       "      <td>125510.82</td>\n",
       "      <td>1</td>\n",
       "      <td>1</td>\n",
       "      <td>1</td>\n",
       "      <td>79084.10</td>\n",
       "      <td>0</td>\n",
       "    </tr>\n",
       "  </tbody>\n",
       "</table>\n",
       "</div>"
      ],
      "text/plain": [
       "   RowNumber  CustomerId   Surname  CreditScore Geography  Gender  Age  \\\n",
       "0          1    15634602  Hargrave          619    France  Female   42   \n",
       "1          2    15647311      Hill          608     Spain  Female   41   \n",
       "2          3    15619304      Onio          502    France  Female   42   \n",
       "3          4    15701354      Boni          699    France  Female   39   \n",
       "4          5    15737888  Mitchell          850     Spain  Female   43   \n",
       "\n",
       "   Tenure    Balance  NumOfProducts  HasCrCard  IsActiveMember  \\\n",
       "0       2       0.00              1          1               1   \n",
       "1       1   83807.86              1          0               1   \n",
       "2       8  159660.80              3          1               0   \n",
       "3       1       0.00              2          0               0   \n",
       "4       2  125510.82              1          1               1   \n",
       "\n",
       "   EstimatedSalary  Exited  \n",
       "0        101348.88       1  \n",
       "1        112542.58       0  \n",
       "2        113931.57       1  \n",
       "3         93826.63       0  \n",
       "4         79084.10       0  "
      ]
     },
     "execution_count": 4,
     "metadata": {},
     "output_type": "execute_result"
    }
   ],
   "source": [
    "#viewing the data\n",
    "data.head()"
   ]
  },
  {
   "cell_type": "markdown",
   "metadata": {},
   "source": [
    "## Data Cleaning and EDA "
   ]
  },
  {
   "cell_type": "code",
   "execution_count": 5,
   "metadata": {},
   "outputs": [
    {
     "data": {
      "text/plain": [
       "(10000, 14)"
      ]
     },
     "execution_count": 5,
     "metadata": {},
     "output_type": "execute_result"
    }
   ],
   "source": [
    "#size of data\n",
    "data.shape"
   ]
  },
  {
   "cell_type": "code",
   "execution_count": 6,
   "metadata": {},
   "outputs": [
    {
     "data": {
      "text/plain": [
       "<matplotlib.axes._subplots.AxesSubplot at 0x180e2217748>"
      ]
     },
     "execution_count": 6,
     "metadata": {},
     "output_type": "execute_result"
    },
    {
     "data": {
      "image/png": "[encoded data removed]",
      "text/plain": [
       "<Figure size 432x288 with 1 Axes>"
      ]
     },
     "metadata": {
      "needs_background": "light"
     },
     "output_type": "display_data"
    }
   ],
   "source": [
    "#frequency of the target classes\n",
    "sns.countplot(x='Exited', data=data)"
   ]
  },
  {
   "cell_type": "markdown",
   "metadata": {},
   "source": [
    "From the data we have more information on the customers that stayed at the bank"
   ]
  },
  {
   "cell_type": "code",
   "execution_count": 7,
   "metadata": {},
   "outputs": [
    {
     "data": {
      "text/plain": [
       "RowNumber            int64\n",
       "CustomerId           int64\n",
       "Surname             object\n",
       "CreditScore          int64\n",
       "Geography           object\n",
       "Gender              object\n",
       "Age                  int64\n",
       "Tenure               int64\n",
       "Balance            float64\n",
       "NumOfProducts        int64\n",
       "HasCrCard            int64\n",
       "IsActiveMember       int64\n",
       "EstimatedSalary    float64\n",
       "Exited               int64\n",
       "dtype: object"
      ]
     },
     "execution_count": 7,
     "metadata": {},
     "output_type": "execute_result"
    }
   ],
   "source": [
    "#checking for datatype of each column\n",
    "data.dtypes"
   ]
  },
  {
   "cell_type": "code",
   "execution_count": 8,
   "metadata": {},
   "outputs": [
    {
     "data": {
      "text/plain": [
       "RowNumber          0\n",
       "CustomerId         0\n",
       "Surname            0\n",
       "CreditScore        0\n",
       "Geography          0\n",
       "Gender             0\n",
       "Age                0\n",
       "Tenure             0\n",
       "Balance            0\n",
       "NumOfProducts      0\n",
       "HasCrCard          0\n",
       "IsActiveMember     0\n",
       "EstimatedSalary    0\n",
       "Exited             0\n",
       "dtype: int64"
      ]
     },
     "execution_count": 8,
     "metadata": {},
     "output_type": "execute_result"
    }
   ],
   "source": [
    "#checking for missing values\n",
    "data.isnull().sum()"
   ]
  },
  {
   "cell_type": "code",
   "execution_count": 9,
   "metadata": {},
   "outputs": [
    {
     "data": {
      "text/html": [
       "<div>\n",
       "<style scoped>\n",
       "    .dataframe tbody tr th:only-of-type {\n",
       "        vertical-align: middle;\n",
       "    }\n",
       "\n",
       "    .dataframe tbody tr th {\n",
       "        vertical-align: top;\n",
       "    }\n",
       "\n",
       "    .dataframe thead th {\n",
       "        text-align: right;\n",
       "    }\n",
       "</style>\n",
       "<table border=\"1\" class=\"dataframe\">\n",
       "  <thead>\n",
       "    <tr style=\"text-align: right;\">\n",
       "      <th></th>\n",
       "      <th>CreditScore</th>\n",
       "      <th>Geography</th>\n",
       "      <th>Gender</th>\n",
       "      <th>Age</th>\n",
       "      <th>Tenure</th>\n",
       "      <th>Balance</th>\n",
       "      <th>NumOfProducts</th>\n",
       "      <th>HasCrCard</th>\n",
       "      <th>IsActiveMember</th>\n",
       "      <th>EstimatedSalary</th>\n",
       "      <th>Exited</th>\n",
       "    </tr>\n",
       "  </thead>\n",
       "  <tbody>\n",
       "    <tr>\n",
       "      <th>0</th>\n",
       "      <td>619</td>\n",
       "      <td>France</td>\n",
       "      <td>Female</td>\n",
       "      <td>42</td>\n",
       "      <td>2</td>\n",
       "      <td>0.00</td>\n",
       "      <td>1</td>\n",
       "      <td>1</td>\n",
       "      <td>1</td>\n",
       "      <td>101348.88</td>\n",
       "      <td>1</td>\n",
       "    </tr>\n",
       "    <tr>\n",
       "      <th>1</th>\n",
       "      <td>608</td>\n",
       "      <td>Spain</td>\n",
       "      <td>Female</td>\n",
       "      <td>41</td>\n",
       "      <td>1</td>\n",
       "      <td>83807.86</td>\n",
       "      <td>1</td>\n",
       "      <td>0</td>\n",
       "      <td>1</td>\n",
       "      <td>112542.58</td>\n",
       "      <td>0</td>\n",
       "    </tr>\n",
       "    <tr>\n",
       "      <th>2</th>\n",
       "      <td>502</td>\n",
       "      <td>France</td>\n",
       "      <td>Female</td>\n",
       "      <td>42</td>\n",
       "      <td>8</td>\n",
       "      <td>159660.80</td>\n",
       "      <td>3</td>\n",
       "      <td>1</td>\n",
       "      <td>0</td>\n",
       "      <td>113931.57</td>\n",
       "      <td>1</td>\n",
       "    </tr>\n",
       "    <tr>\n",
       "      <th>3</th>\n",
       "      <td>699</td>\n",
       "      <td>France</td>\n",
       "      <td>Female</td>\n",
       "      <td>39</td>\n",
       "      <td>1</td>\n",
       "      <td>0.00</td>\n",
       "      <td>2</td>\n",
       "      <td>0</td>\n",
       "      <td>0</td>\n",
       "      <td>93826.63</td>\n",
       "      <td>0</td>\n",
       "    </tr>\n",
       "    <tr>\n",
       "      <th>4</th>\n",
       "      <td>850</td>\n",
       "      <td>Spain</td>\n",
       "      <td>Female</td>\n",
       "      <td>43</td>\n",
       "      <td>2</td>\n",
       "      <td>125510.82</td>\n",
       "      <td>1</td>\n",
       "      <td>1</td>\n",
       "      <td>1</td>\n",
       "      <td>79084.10</td>\n",
       "      <td>0</td>\n",
       "    </tr>\n",
       "  </tbody>\n",
       "</table>\n",
       "</div>"
      ],
      "text/plain": [
       "   CreditScore Geography  Gender  Age  Tenure    Balance  NumOfProducts  \\\n",
       "0          619    France  Female   42       2       0.00              1   \n",
       "1          608     Spain  Female   41       1   83807.86              1   \n",
       "2          502    France  Female   42       8  159660.80              3   \n",
       "3          699    France  Female   39       1       0.00              2   \n",
       "4          850     Spain  Female   43       2  125510.82              1   \n",
       "\n",
       "   HasCrCard  IsActiveMember  EstimatedSalary  Exited  \n",
       "0          1               1        101348.88       1  \n",
       "1          0               1        112542.58       0  \n",
       "2          1               0        113931.57       1  \n",
       "3          0               0         93826.63       0  \n",
       "4          1               1         79084.10       0  "
      ]
     },
     "execution_count": 9,
     "metadata": {},
     "output_type": "execute_result"
    }
   ],
   "source": [
    "#dropping some columns that are not needed\n",
    "data = data.drop(columns=['RowNumber','CustomerId','Surname'], axis=1)\n",
    "data.head()"
   ]
  },
  {
   "cell_type": "code",
   "execution_count": 10,
   "metadata": {},
   "outputs": [
    {
     "data": {
      "text/plain": [
       "array(['France', 'Spain', 'Germany'], dtype=object)"
      ]
     },
     "execution_count": 10,
     "metadata": {},
     "output_type": "execute_result"
    }
   ],
   "source": [
    "#viewing the unique values in Geography column\n",
    "data['Geography'].unique()"
   ]
  },
  {
   "cell_type": "code",
   "execution_count": 11,
   "metadata": {},
   "outputs": [
    {
     "data": {
      "text/html": [
       "<div>\n",
       "<style scoped>\n",
       "    .dataframe tbody tr th:only-of-type {\n",
       "        vertical-align: middle;\n",
       "    }\n",
       "\n",
       "    .dataframe tbody tr th {\n",
       "        vertical-align: top;\n",
       "    }\n",
       "\n",
       "    .dataframe thead th {\n",
       "        text-align: right;\n",
       "    }\n",
       "</style>\n",
       "<table border=\"1\" class=\"dataframe\">\n",
       "  <thead>\n",
       "    <tr style=\"text-align: right;\">\n",
       "      <th></th>\n",
       "      <th>CreditScore</th>\n",
       "      <th>Geography</th>\n",
       "      <th>Gender</th>\n",
       "      <th>Age</th>\n",
       "      <th>Tenure</th>\n",
       "      <th>Balance</th>\n",
       "      <th>NumOfProducts</th>\n",
       "      <th>HasCrCard</th>\n",
       "      <th>IsActiveMember</th>\n",
       "      <th>EstimatedSalary</th>\n",
       "    </tr>\n",
       "  </thead>\n",
       "  <tbody>\n",
       "    <tr>\n",
       "      <th>0</th>\n",
       "      <td>619</td>\n",
       "      <td>France</td>\n",
       "      <td>Female</td>\n",
       "      <td>42</td>\n",
       "      <td>2</td>\n",
       "      <td>0.00</td>\n",
       "      <td>1</td>\n",
       "      <td>1</td>\n",
       "      <td>1</td>\n",
       "      <td>101348.88</td>\n",
       "    </tr>\n",
       "    <tr>\n",
       "      <th>1</th>\n",
       "      <td>608</td>\n",
       "      <td>Spain</td>\n",
       "      <td>Female</td>\n",
       "      <td>41</td>\n",
       "      <td>1</td>\n",
       "      <td>83807.86</td>\n",
       "      <td>1</td>\n",
       "      <td>0</td>\n",
       "      <td>1</td>\n",
       "      <td>112542.58</td>\n",
       "    </tr>\n",
       "    <tr>\n",
       "      <th>2</th>\n",
       "      <td>502</td>\n",
       "      <td>France</td>\n",
       "      <td>Female</td>\n",
       "      <td>42</td>\n",
       "      <td>8</td>\n",
       "      <td>159660.80</td>\n",
       "      <td>3</td>\n",
       "      <td>1</td>\n",
       "      <td>0</td>\n",
       "      <td>113931.57</td>\n",
       "    </tr>\n",
       "    <tr>\n",
       "      <th>3</th>\n",
       "      <td>699</td>\n",
       "      <td>France</td>\n",
       "      <td>Female</td>\n",
       "      <td>39</td>\n",
       "      <td>1</td>\n",
       "      <td>0.00</td>\n",
       "      <td>2</td>\n",
       "      <td>0</td>\n",
       "      <td>0</td>\n",
       "      <td>93826.63</td>\n",
       "    </tr>\n",
       "    <tr>\n",
       "      <th>4</th>\n",
       "      <td>850</td>\n",
       "      <td>Spain</td>\n",
       "      <td>Female</td>\n",
       "      <td>43</td>\n",
       "      <td>2</td>\n",
       "      <td>125510.82</td>\n",
       "      <td>1</td>\n",
       "      <td>1</td>\n",
       "      <td>1</td>\n",
       "      <td>79084.10</td>\n",
       "    </tr>\n",
       "  </tbody>\n",
       "</table>\n",
       "</div>"
      ],
      "text/plain": [
       "   CreditScore Geography  Gender  Age  Tenure    Balance  NumOfProducts  \\\n",
       "0          619    France  Female   42       2       0.00              1   \n",
       "1          608     Spain  Female   41       1   83807.86              1   \n",
       "2          502    France  Female   42       8  159660.80              3   \n",
       "3          699    France  Female   39       1       0.00              2   \n",
       "4          850     Spain  Female   43       2  125510.82              1   \n",
       "\n",
       "   HasCrCard  IsActiveMember  EstimatedSalary  \n",
       "0          1               1        101348.88  \n",
       "1          0               1        112542.58  \n",
       "2          1               0        113931.57  \n",
       "3          0               0         93826.63  \n",
       "4          1               1         79084.10  "
      ]
     },
     "execution_count": 11,
     "metadata": {},
     "output_type": "execute_result"
    }
   ],
   "source": [
    "#data features\n",
    "X = data.iloc[:,:-1]\n",
    "X.head()"
   ]
  },
  {
   "cell_type": "code",
   "execution_count": 12,
   "metadata": {},
   "outputs": [
    {
     "data": {
      "text/html": [
       "<div>\n",
       "<style scoped>\n",
       "    .dataframe tbody tr th:only-of-type {\n",
       "        vertical-align: middle;\n",
       "    }\n",
       "\n",
       "    .dataframe tbody tr th {\n",
       "        vertical-align: top;\n",
       "    }\n",
       "\n",
       "    .dataframe thead th {\n",
       "        text-align: right;\n",
       "    }\n",
       "</style>\n",
       "<table border=\"1\" class=\"dataframe\">\n",
       "  <thead>\n",
       "    <tr style=\"text-align: right;\">\n",
       "      <th></th>\n",
       "      <th>Exited</th>\n",
       "    </tr>\n",
       "  </thead>\n",
       "  <tbody>\n",
       "    <tr>\n",
       "      <th>0</th>\n",
       "      <td>1</td>\n",
       "    </tr>\n",
       "    <tr>\n",
       "      <th>1</th>\n",
       "      <td>0</td>\n",
       "    </tr>\n",
       "    <tr>\n",
       "      <th>2</th>\n",
       "      <td>1</td>\n",
       "    </tr>\n",
       "    <tr>\n",
       "      <th>3</th>\n",
       "      <td>0</td>\n",
       "    </tr>\n",
       "    <tr>\n",
       "      <th>4</th>\n",
       "      <td>0</td>\n",
       "    </tr>\n",
       "  </tbody>\n",
       "</table>\n",
       "</div>"
      ],
      "text/plain": [
       "   Exited\n",
       "0       1\n",
       "1       0\n",
       "2       1\n",
       "3       0\n",
       "4       0"
      ]
     },
     "execution_count": 12,
     "metadata": {},
     "output_type": "execute_result"
    }
   ],
   "source": [
    "#target data\n",
    "y = data.iloc[:,-1:]\n",
    "y.head()"
   ]
  },
  {
   "cell_type": "code",
   "execution_count": 13,
   "metadata": {},
   "outputs": [
    {
     "data": {
      "text/html": [
       "<div>\n",
       "<style scoped>\n",
       "    .dataframe tbody tr th:only-of-type {\n",
       "        vertical-align: middle;\n",
       "    }\n",
       "\n",
       "    .dataframe tbody tr th {\n",
       "        vertical-align: top;\n",
       "    }\n",
       "\n",
       "    .dataframe thead th {\n",
       "        text-align: right;\n",
       "    }\n",
       "</style>\n",
       "<table border=\"1\" class=\"dataframe\">\n",
       "  <thead>\n",
       "    <tr style=\"text-align: right;\">\n",
       "      <th></th>\n",
       "      <th>CreditScore</th>\n",
       "      <th>Geography</th>\n",
       "      <th>Gender</th>\n",
       "      <th>Age</th>\n",
       "      <th>Tenure</th>\n",
       "      <th>Balance</th>\n",
       "      <th>NumOfProducts</th>\n",
       "      <th>HasCrCard</th>\n",
       "      <th>IsActiveMember</th>\n",
       "      <th>EstimatedSalary</th>\n",
       "      <th>Geography_France</th>\n",
       "      <th>Geography_Germany</th>\n",
       "      <th>Geography_Spain</th>\n",
       "    </tr>\n",
       "  </thead>\n",
       "  <tbody>\n",
       "    <tr>\n",
       "      <th>0</th>\n",
       "      <td>619</td>\n",
       "      <td>France</td>\n",
       "      <td>0</td>\n",
       "      <td>42</td>\n",
       "      <td>2</td>\n",
       "      <td>0.00</td>\n",
       "      <td>1</td>\n",
       "      <td>1</td>\n",
       "      <td>1</td>\n",
       "      <td>101348.88</td>\n",
       "      <td>1.0</td>\n",
       "      <td>0.0</td>\n",
       "      <td>0.0</td>\n",
       "    </tr>\n",
       "    <tr>\n",
       "      <th>1</th>\n",
       "      <td>608</td>\n",
       "      <td>Spain</td>\n",
       "      <td>0</td>\n",
       "      <td>41</td>\n",
       "      <td>1</td>\n",
       "      <td>83807.86</td>\n",
       "      <td>1</td>\n",
       "      <td>0</td>\n",
       "      <td>1</td>\n",
       "      <td>112542.58</td>\n",
       "      <td>0.0</td>\n",
       "      <td>0.0</td>\n",
       "      <td>1.0</td>\n",
       "    </tr>\n",
       "    <tr>\n",
       "      <th>2</th>\n",
       "      <td>502</td>\n",
       "      <td>France</td>\n",
       "      <td>0</td>\n",
       "      <td>42</td>\n",
       "      <td>8</td>\n",
       "      <td>159660.80</td>\n",
       "      <td>3</td>\n",
       "      <td>1</td>\n",
       "      <td>0</td>\n",
       "      <td>113931.57</td>\n",
       "      <td>1.0</td>\n",
       "      <td>0.0</td>\n",
       "      <td>0.0</td>\n",
       "    </tr>\n",
       "    <tr>\n",
       "      <th>3</th>\n",
       "      <td>699</td>\n",
       "      <td>France</td>\n",
       "      <td>0</td>\n",
       "      <td>39</td>\n",
       "      <td>1</td>\n",
       "      <td>0.00</td>\n",
       "      <td>2</td>\n",
       "      <td>0</td>\n",
       "      <td>0</td>\n",
       "      <td>93826.63</td>\n",
       "      <td>1.0</td>\n",
       "      <td>0.0</td>\n",
       "      <td>0.0</td>\n",
       "    </tr>\n",
       "    <tr>\n",
       "      <th>4</th>\n",
       "      <td>850</td>\n",
       "      <td>Spain</td>\n",
       "      <td>0</td>\n",
       "      <td>43</td>\n",
       "      <td>2</td>\n",
       "      <td>125510.82</td>\n",
       "      <td>1</td>\n",
       "      <td>1</td>\n",
       "      <td>1</td>\n",
       "      <td>79084.10</td>\n",
       "      <td>0.0</td>\n",
       "      <td>0.0</td>\n",
       "      <td>1.0</td>\n",
       "    </tr>\n",
       "  </tbody>\n",
       "</table>\n",
       "</div>"
      ],
      "text/plain": [
       "   CreditScore Geography  Gender  Age  Tenure    Balance  NumOfProducts  \\\n",
       "0          619    France       0   42       2       0.00              1   \n",
       "1          608     Spain       0   41       1   83807.86              1   \n",
       "2          502    France       0   42       8  159660.80              3   \n",
       "3          699    France       0   39       1       0.00              2   \n",
       "4          850     Spain       0   43       2  125510.82              1   \n",
       "\n",
       "   HasCrCard  IsActiveMember  EstimatedSalary  Geography_France  \\\n",
       "0          1               1        101348.88               1.0   \n",
       "1          0               1        112542.58               0.0   \n",
       "2          1               0        113931.57               1.0   \n",
       "3          0               0         93826.63               1.0   \n",
       "4          1               1         79084.10               0.0   \n",
       "\n",
       "   Geography_Germany  Geography_Spain  \n",
       "0                0.0              0.0  \n",
       "1                0.0              1.0  \n",
       "2                0.0              0.0  \n",
       "3                0.0              0.0  \n",
       "4                0.0              1.0  "
      ]
     },
     "execution_count": 13,
     "metadata": {},
     "output_type": "execute_result"
    }
   ],
   "source": [
    "#encoding the categorical columns\n",
    "le = LabelEncoder()\n",
    "ohe = OneHotEncoder()\n",
    "X['Gender'] = le.fit_transform(X['Gender'])\n",
    "geo_df = pd.DataFrame(ohe.fit_transform(X[['Geography']]).toarray())\n",
    "\n",
    "#getting feature name after onehotencoding\n",
    "geo_df.columns = ohe.get_feature_names(['Geography'])\n",
    "\n",
    "#merging geo_df with the main data\n",
    "X = X.join(geo_df)\n",
    "X.head()"
   ]
  },
  {
   "cell_type": "code",
   "execution_count": 14,
   "metadata": {},
   "outputs": [
    {
     "data": {
      "text/html": [
       "<div>\n",
       "<style scoped>\n",
       "    .dataframe tbody tr th:only-of-type {\n",
       "        vertical-align: middle;\n",
       "    }\n",
       "\n",
       "    .dataframe tbody tr th {\n",
       "        vertical-align: top;\n",
       "    }\n",
       "\n",
       "    .dataframe thead th {\n",
       "        text-align: right;\n",
       "    }\n",
       "</style>\n",
       "<table border=\"1\" class=\"dataframe\">\n",
       "  <thead>\n",
       "    <tr style=\"text-align: right;\">\n",
       "      <th></th>\n",
       "      <th>CreditScore</th>\n",
       "      <th>Gender</th>\n",
       "      <th>Age</th>\n",
       "      <th>Tenure</th>\n",
       "      <th>Balance</th>\n",
       "      <th>NumOfProducts</th>\n",
       "      <th>HasCrCard</th>\n",
       "      <th>IsActiveMember</th>\n",
       "      <th>EstimatedSalary</th>\n",
       "      <th>Geography_France</th>\n",
       "      <th>Geography_Germany</th>\n",
       "      <th>Geography_Spain</th>\n",
       "    </tr>\n",
       "  </thead>\n",
       "  <tbody>\n",
       "    <tr>\n",
       "      <th>0</th>\n",
       "      <td>619</td>\n",
       "      <td>0</td>\n",
       "      <td>42</td>\n",
       "      <td>2</td>\n",
       "      <td>0.00</td>\n",
       "      <td>1</td>\n",
       "      <td>1</td>\n",
       "      <td>1</td>\n",
       "      <td>101348.88</td>\n",
       "      <td>1.0</td>\n",
       "      <td>0.0</td>\n",
       "      <td>0.0</td>\n",
       "    </tr>\n",
       "    <tr>\n",
       "      <th>1</th>\n",
       "      <td>608</td>\n",
       "      <td>0</td>\n",
       "      <td>41</td>\n",
       "      <td>1</td>\n",
       "      <td>83807.86</td>\n",
       "      <td>1</td>\n",
       "      <td>0</td>\n",
       "      <td>1</td>\n",
       "      <td>112542.58</td>\n",
       "      <td>0.0</td>\n",
       "      <td>0.0</td>\n",
       "      <td>1.0</td>\n",
       "    </tr>\n",
       "    <tr>\n",
       "      <th>2</th>\n",
       "      <td>502</td>\n",
       "      <td>0</td>\n",
       "      <td>42</td>\n",
       "      <td>8</td>\n",
       "      <td>159660.80</td>\n",
       "      <td>3</td>\n",
       "      <td>1</td>\n",
       "      <td>0</td>\n",
       "      <td>113931.57</td>\n",
       "      <td>1.0</td>\n",
       "      <td>0.0</td>\n",
       "      <td>0.0</td>\n",
       "    </tr>\n",
       "    <tr>\n",
       "      <th>3</th>\n",
       "      <td>699</td>\n",
       "      <td>0</td>\n",
       "      <td>39</td>\n",
       "      <td>1</td>\n",
       "      <td>0.00</td>\n",
       "      <td>2</td>\n",
       "      <td>0</td>\n",
       "      <td>0</td>\n",
       "      <td>93826.63</td>\n",
       "      <td>1.0</td>\n",
       "      <td>0.0</td>\n",
       "      <td>0.0</td>\n",
       "    </tr>\n",
       "    <tr>\n",
       "      <th>4</th>\n",
       "      <td>850</td>\n",
       "      <td>0</td>\n",
       "      <td>43</td>\n",
       "      <td>2</td>\n",
       "      <td>125510.82</td>\n",
       "      <td>1</td>\n",
       "      <td>1</td>\n",
       "      <td>1</td>\n",
       "      <td>79084.10</td>\n",
       "      <td>0.0</td>\n",
       "      <td>0.0</td>\n",
       "      <td>1.0</td>\n",
       "    </tr>\n",
       "  </tbody>\n",
       "</table>\n",
       "</div>"
      ],
      "text/plain": [
       "   CreditScore  Gender  Age  Tenure    Balance  NumOfProducts  HasCrCard  \\\n",
       "0          619       0   42       2       0.00              1          1   \n",
       "1          608       0   41       1   83807.86              1          0   \n",
       "2          502       0   42       8  159660.80              3          1   \n",
       "3          699       0   39       1       0.00              2          0   \n",
       "4          850       0   43       2  125510.82              1          1   \n",
       "\n",
       "   IsActiveMember  EstimatedSalary  Geography_France  Geography_Germany  \\\n",
       "0               1        101348.88               1.0                0.0   \n",
       "1               1        112542.58               0.0                0.0   \n",
       "2               0        113931.57               1.0                0.0   \n",
       "3               0         93826.63               1.0                0.0   \n",
       "4               1         79084.10               0.0                0.0   \n",
       "\n",
       "   Geography_Spain  \n",
       "0              0.0  \n",
       "1              1.0  \n",
       "2              0.0  \n",
       "3              0.0  \n",
       "4              1.0  "
      ]
     },
     "execution_count": 14,
     "metadata": {},
     "output_type": "execute_result"
    }
   ],
   "source": [
    "#dropping the old columns after encoding\n",
    "X.drop(columns=['Geography'], axis=1, inplace=True)\n",
    "X.head()"
   ]
  },
  {
   "cell_type": "code",
   "execution_count": 15,
   "metadata": {},
   "outputs": [
    {
     "data": {
      "image/png": "[encoded data removed]",
      "text/plain": [
       "<Figure size 864x720 with 2 Axes>"
      ]
     },
     "metadata": {
      "needs_background": "light"
     },
     "output_type": "display_data"
    }
   ],
   "source": [
    "#using heatmap see the correlation between each features\n",
    "plt.figure(figsize=(12,10))\n",
    "cor = data.corr()\n",
    "sns.heatmap(cor, annot=True, cmap=plt.cm.Blues)\n",
    "plt.show()"
   ]
  },
  {
   "cell_type": "code",
   "execution_count": 16,
   "metadata": {},
   "outputs": [
    {
     "data": {
      "text/plain": [
       "<seaborn.axisgrid.PairGrid at 0x180e2669da0>"
      ]
     },
     "execution_count": 16,
     "metadata": {},
     "output_type": "execute_result"
    },
    {
     "data": {
      "image/png": "[encoded data removed]",
      "text/plain": [
       "<Figure size 1440x180 with 8 Axes>"
      ]
     },
     "metadata": {
      "needs_background": "light"
     },
     "output_type": "display_data"
    }
   ],
   "source": [
    "sns.pairplot(data=data, y_vars=['EstimatedSalary'], x_vars=['CreditScore', 'Gender','Age','Tenure','Balance','NumOfProducts','HasCrCard','IsActiveMember'])"
   ]
  },
  {
   "cell_type": "markdown",
   "metadata": {},
   "source": [
    "### Split data"
   ]
  },
  {
   "cell_type": "code",
   "execution_count": 17,
   "metadata": {},
   "outputs": [],
   "source": [
    "X_train,X_test,y_train,y_test = train_test_split( X,y, test_size=0.2, random_state = 42)"
   ]
  },
  {
   "cell_type": "code",
   "execution_count": 18,
   "metadata": {},
   "outputs": [
    {
     "name": "stdout",
     "output_type": "stream",
     "text": [
      "The shape of X_train is (8000, 12)\n",
      "The shape of X_test is (2000, 12)\n",
      "The shape of y_train is (8000, 1)\n",
      "The shape of y_test is (2000, 1)\n"
     ]
    }
   ],
   "source": [
    "data_dict = {\"X_train\":X_train, \"X_test\":X_test, \"y_train\":y_train, \"y_test\":y_test}\n",
    "for i in data_dict:\n",
    "    print(\"The shape of {} is {}\".format(i,data_dict[i].shape))"
   ]
  },
  {
   "cell_type": "markdown",
   "metadata": {},
   "source": [
    "### Feature Scaling"
   ]
  },
  {
   "cell_type": "code",
   "execution_count": 19,
   "metadata": {},
   "outputs": [
    {
     "name": "stderr",
     "output_type": "stream",
     "text": [
      "C:\\Users\\JADESOLA\\Anaconda3\\lib\\site-packages\\sklearn\\preprocessing\\data.py:625: DataConversionWarning: Data with input dtype int32, int64, float64 were all converted to float64 by StandardScaler.\n",
      "  return self.partial_fit(X, y)\n",
      "C:\\Users\\JADESOLA\\Anaconda3\\lib\\site-packages\\sklearn\\base.py:462: DataConversionWarning: Data with input dtype int32, int64, float64 were all converted to float64 by StandardScaler.\n",
      "  return self.fit(X, **fit_params).transform(X)\n",
      "C:\\Users\\JADESOLA\\Anaconda3\\lib\\site-packages\\ipykernel_launcher.py:3: DataConversionWarning: Data with input dtype int32, int64, float64 were all converted to float64 by StandardScaler.\n",
      "  This is separate from the ipykernel package so we can avoid doing imports until\n"
     ]
    }
   ],
   "source": [
    "sc =StandardScaler()\n",
    "X_train = sc.fit_transform(X_train)\n",
    "X_test = sc.transform(X_test)"
   ]
  },
  {
   "cell_type": "markdown",
   "metadata": {},
   "source": [
    "### Deep learning model"
   ]
  },
  {
   "cell_type": "code",
   "execution_count": 20,
   "metadata": {},
   "outputs": [
    {
     "name": "stdout",
     "output_type": "stream",
     "text": [
      "WARNING:tensorflow:From C:\\Users\\JADESOLA\\Anaconda3\\lib\\site-packages\\keras\\backend\\tensorflow_backend.py:74: The name tf.get_default_graph is deprecated. Please use tf.compat.v1.get_default_graph instead.\n",
      "\n",
      "WARNING:tensorflow:From C:\\Users\\JADESOLA\\Anaconda3\\lib\\site-packages\\keras\\backend\\tensorflow_backend.py:517: The name tf.placeholder is deprecated. Please use tf.compat.v1.placeholder instead.\n",
      "\n",
      "WARNING:tensorflow:From C:\\Users\\JADESOLA\\Anaconda3\\lib\\site-packages\\keras\\backend\\tensorflow_backend.py:4138: The name tf.random_uniform is deprecated. Please use tf.random.uniform instead.\n",
      "\n"
     ]
    }
   ],
   "source": [
    "#initializing the classifier model with its input, hidden and output layers\n",
    "classifier = Sequential()\n",
    "classifier.add(Dense(units = 16, activation='relu', input_dim=12,))\n",
    "classifier.add(Dense(units = 8, activation='relu'))\n",
    "classifier.add(Dense(units = 1, activation='sigmoid'))"
   ]
  },
  {
   "cell_type": "markdown",
   "metadata": {},
   "source": [
    "### Compiling the classifier model with Stochastic Gradient Desecnt"
   ]
  },
  {
   "cell_type": "code",
   "execution_count": 21,
   "metadata": {},
   "outputs": [
    {
     "name": "stdout",
     "output_type": "stream",
     "text": [
      "WARNING:tensorflow:From C:\\Users\\JADESOLA\\Anaconda3\\lib\\site-packages\\keras\\optimizers.py:790: The name tf.train.Optimizer is deprecated. Please use tf.compat.v1.train.Optimizer instead.\n",
      "\n",
      "WARNING:tensorflow:From C:\\Users\\JADESOLA\\Anaconda3\\lib\\site-packages\\keras\\backend\\tensorflow_backend.py:3376: The name tf.log is deprecated. Please use tf.math.log instead.\n",
      "\n",
      "WARNING:tensorflow:From C:\\Users\\JADESOLA\\Anaconda3\\lib\\site-packages\\tensorflow_core\\python\\ops\\nn_impl.py:183: where (from tensorflow.python.ops.array_ops) is deprecated and will be removed in a future version.\n",
      "Instructions for updating:\n",
      "Use tf.where in 2.0, which has the same broadcast rule as np.where\n"
     ]
    }
   ],
   "source": [
    "classifier.compile(optimizer = 'adam', loss='binary_crossentropy' , metrics =['accuracy'])"
   ]
  },
  {
   "cell_type": "markdown",
   "metadata": {},
   "source": [
    "### Fitting the classifier model"
   ]
  },
  {
   "cell_type": "code",
   "execution_count": 23,
   "metadata": {},
   "outputs": [
    {
     "name": "stdout",
     "output_type": "stream",
     "text": [
      "Epoch 1/150\n",
      " 280/8000 [>.............................] - ETA: 5s - loss: 0.3996 - acc: 0.8393"
     ]
    },
    {
     "name": "stderr",
     "output_type": "stream",
     "text": [
      "C:\\Users\\JADESOLA\\Anaconda3\\lib\\site-packages\\ipykernel_launcher.py:1: UserWarning: The `nb_epoch` argument in `fit` has been renamed `epochs`.\n",
      "  \"\"\"Entry point for launching an IPython kernel.\n"
     ]
    },
    {
     "name": "stdout",
     "output_type": "stream",
     "text": [
      "8000/8000 [==============================] - 7s 853us/step - loss: 0.4023 - acc: 0.8306\n",
      "Epoch 2/150\n",
      "8000/8000 [==============================] - 7s 879us/step - loss: 0.3691 - acc: 0.8480\n",
      "Epoch 3/150\n",
      "8000/8000 [==============================] - 6s 717us/step - loss: 0.3539 - acc: 0.8539\n",
      "Epoch 4/150\n",
      "8000/8000 [==============================] - 6s 756us/step - loss: 0.3474 - acc: 0.8556\n",
      "Epoch 5/150\n",
      "8000/8000 [==============================] - 7s 815us/step - loss: 0.3441 - acc: 0.8559\n",
      "Epoch 6/150\n",
      "8000/8000 [==============================] - 5s 575us/step - loss: 0.3427 - acc: 0.8586\n",
      "Epoch 7/150\n",
      "8000/8000 [==============================] - 4s 550us/step - loss: 0.3396 - acc: 0.8597\n",
      "Epoch 8/150\n",
      "8000/8000 [==============================] - 6s 727us/step - loss: 0.3388 - acc: 0.8609 4s\n",
      "Epoch 9/150\n",
      "8000/8000 [==============================] - 5s 569us/step - loss: 0.3384 - acc: 0.8596 0s - loss: 0.3388 - a\n",
      "Epoch 10/150\n",
      "8000/8000 [==============================] - 5s 574us/step - loss: 0.3359 - acc: 0.8607 0s - loss: 0.3353 - acc: 0.861\n",
      "Epoch 11/150\n",
      "8000/8000 [==============================] - 6s 703us/step - loss: 0.3360 - acc: 0.8621\n",
      "Epoch 12/150\n",
      "8000/8000 [==============================] - 5s 590us/step - loss: 0.3345 - acc: 0.8609 4s - loss: 0.3367 -  - ETA: 2s - loss: 0.3341 - a - ETA: 1s - loss: 0.3408 - acc: 0.8 - ETA: 1s - loss: 0.3388 - acc - ETA: 1s - loss: 0\n",
      "Epoch 13/150\n",
      "8000/8000 [==============================] - 5s 568us/step - loss: 0.3341 - acc: 0.8639 3s - loss:\n",
      "Epoch 14/150\n",
      "8000/8000 [==============================] - 4s 496us/step - loss: 0.3337 - acc: 0.8609\n",
      "Epoch 15/150\n",
      "8000/8000 [==============================] - 5s 649us/step - loss: 0.3328 - acc: 0.8617\n",
      "Epoch 16/150\n",
      "8000/8000 [==============================] - 4s 538us/step - loss: 0.3314 - acc: 0.8636 0s - loss: 0.3310 - acc: 0\n",
      "Epoch 17/150\n",
      "8000/8000 [==============================] - 4s 547us/step - loss: 0.3324 - acc: 0.8621\n",
      "Epoch 18/150\n",
      "8000/8000 [==============================] - 4s 557us/step - loss: 0.3306 - acc: 0.8620 1s - lo\n",
      "Epoch 19/150\n",
      "8000/8000 [==============================] - 7s 903us/step - loss: 0.3310 - acc: 0.8627\n",
      "Epoch 20/150\n",
      "8000/8000 [==============================] - 6s 698us/step - loss: 0.3315 - acc: 0.8631\n",
      "Epoch 21/150\n",
      "8000/8000 [==============================] - 7s 868us/step - loss: 0.3305 - acc: 0.8637 4\n",
      "Epoch 22/150\n",
      "8000/8000 [==============================] - 7s 847us/step - loss: 0.3305 - acc: 0.8634 1s -\n",
      "Epoch 23/150\n",
      "8000/8000 [==============================] - 8s 966us/step - loss: 0.3292 - acc: 0.8642 7 - ETA: 6s - loss: 0.3100 -  - ETA: 5s - loss: 0.32 - ETA: 1s - loss: 0.\n",
      "Epoch 24/150\n",
      "8000/8000 [==============================] - 7s 877us/step - loss: 0.3293 - acc: 0.8612\n",
      "Epoch 25/150\n",
      "8000/8000 [==============================] - 7s 845us/step - loss: 0.3297 - acc: 0.8629\n",
      "Epoch 26/150\n",
      "8000/8000 [==============================] - 7s 928us/step - loss: 0.3292 - acc: 0.8619\n",
      "Epoch 27/150\n",
      "8000/8000 [==============================] - 6s 743us/step - loss: 0.3280 - acc: 0.8632\n",
      "Epoch 28/150\n",
      "8000/8000 [==============================] - 5s 620us/step - loss: 0.3276 - acc: 0.8630\n",
      "Epoch 29/150\n",
      "8000/8000 [==============================] - 5s 563us/step - loss: 0.3275 - acc: 0.8651 0s - loss: 0.3272 - acc: 0. - ETA: 0s - loss: 0.3285 - acc:\n",
      "Epoch 30/150\n",
      "8000/8000 [==============================] - 4s 541us/step - loss: 0.3270 - acc: 0.8646\n",
      "Epoch 31/150\n",
      "8000/8000 [==============================] - 5s 631us/step - loss: 0.3278 - acc: 0.8631 1s -\n",
      "Epoch 32/150\n",
      "8000/8000 [==============================] - 4s 538us/step - loss: 0.3274 - acc: 0.8644\n",
      "Epoch 33/150\n",
      "8000/8000 [==============================] - 4s 551us/step - loss: 0.3264 - acc: 0.8639 0s - loss: 0.3304 - acc: 0.862 - ETA: 0s - loss: 0.3290 - acc: 0.8 - ETA: 0s - loss: 0.3290 - acc: - ETA: 0s - loss: 0.3268 - acc: 0\n",
      "Epoch 34/150\n",
      "8000/8000 [==============================] - 4s 510us/step - loss: 0.3275 - acc: 0.8641\n",
      "Epoch 35/150\n",
      "8000/8000 [==============================] - 5s 620us/step - loss: 0.3269 - acc: 0.8652\n",
      "Epoch 36/150\n",
      "8000/8000 [==============================] - 4s 510us/step - loss: 0.3265 - acc: 0.8632 1s -  - ETA: 0s - loss: 0.3256 - acc: 0.8\n",
      "Epoch 37/150\n",
      "8000/8000 [==============================] - 4s 528us/step - loss: 0.3259 - acc: 0.8661 4s - loss: \n",
      "Epoch 38/150\n",
      "8000/8000 [==============================] - 5s 600us/step - loss: 0.3263 - acc: 0.8655\n",
      "Epoch 39/150\n",
      "8000/8000 [==============================] - 5s 566us/step - loss: 0.3260 - acc: 0.8636\n",
      "Epoch 40/150\n",
      "8000/8000 [==============================] - 4s 554us/step - loss: 0.3252 - acc: 0.8647 1s - loss: 0.3231 - acc: 0. - ETA: 1s - lo\n",
      "Epoch 41/150\n",
      "8000/8000 [==============================] - 4s 507us/step - loss: 0.3244 - acc: 0.8641\n",
      "Epoch 42/150\n",
      "8000/8000 [==============================] - 5s 645us/step - loss: 0.3253 - acc: 0.8650\n",
      "Epoch 43/150\n",
      "8000/8000 [==============================] - 5s 580us/step - loss: 0.3252 - acc: 0.8659\n",
      "Epoch 44/150\n",
      "8000/8000 [==============================] - 4s 541us/step - loss: 0.3238 - acc: 0.8651 1s - los\n",
      "Epoch 45/150\n",
      "8000/8000 [==============================] - 5s 579us/step - loss: 0.3245 - acc: 0.8641\n",
      "Epoch 46/150\n",
      "8000/8000 [==============================] - 5s 582us/step - loss: 0.3242 - acc: 0.8661 3s - ETA: 1s - loss: 0.3152 - acc: 0 - ETA: 1s - loss: 0\n",
      "Epoch 47/150\n",
      "8000/8000 [==============================] - 4s 551us/step - loss: 0.3239 - acc: 0.8661 2s \n",
      "Epoch 48/150\n",
      "8000/8000 [==============================] - 4s 531us/step - loss: 0.3240 - acc: 0.8666 1s - loss: 0 - ETA: 0s - loss: 0.3237 - a\n",
      "Epoch 49/150\n",
      "8000/8000 [==============================] - 5s 575us/step - loss: 0.3236 - acc: 0.8664\n",
      "Epoch 50/150\n",
      "8000/8000 [==============================] - 5s 566us/step - loss: 0.3237 - acc: 0.8660 3s - loss: 0.3397 - acc: 0. - ETA: 3s - loss: 0.3275 - acc - ETA: 0s - loss: 0.3227 - acc: 0.86\n",
      "Epoch 51/150\n",
      "8000/8000 [==============================] - 4s 504us/step - loss: 0.3227 - acc: 0.8655 2s - loss:  - ETA: 1s - loss: 0.3144 - acc:  - ETA: 0s - loss: 0.3195 - \n",
      "Epoch 52/150\n",
      "8000/8000 [==============================] - 4s 562us/step - loss: 0.3225 - acc: 0.8646 0s - loss: 0.3187 - acc: 0.86 - ETA: 0s - loss: 0.3195 \n",
      "Epoch 53/150\n",
      "8000/8000 [==============================] - 5s 570us/step - loss: 0.3229 - acc: 0.8660\n",
      "Epoch 54/150\n",
      "8000/8000 [==============================] - 6s 753us/step - loss: 0.3233 - acc: 0.8669 1s - \n",
      "Epoch 55/150\n",
      "8000/8000 [==============================] - 6s 754us/step - loss: 0.3225 - acc: 0.8656\n",
      "Epoch 56/150\n",
      "8000/8000 [==============================] - 6s 692us/step - loss: 0.3225 - acc: 0.8657 1s \n",
      "Epoch 57/150\n",
      "8000/8000 [==============================] - 6s 735us/step - loss: 0.3222 - acc: 0.8666\n",
      "Epoch 58/150\n",
      "8000/8000 [==============================] - 6s 719us/step - loss: 0.3224 - acc: 0.8680 0s - loss: 0.3230 - acc: 0\n",
      "Epoch 59/150\n",
      "8000/8000 [==============================] - 6s 758us/step - loss: 0.3221 - acc: 0.8679\n",
      "Epoch 60/150\n",
      "8000/8000 [==============================] - 6s 710us/step - loss: 0.3217 - acc: 0.8665\n",
      "Epoch 61/150\n",
      "8000/8000 [==============================] - 6s 750us/step - loss: 0.3220 - acc: 0.8684 4s -  - ETA: 3s - loss:\n",
      "Epoch 62/150\n",
      "8000/8000 [==============================] - 6s 756us/step - loss: 0.3218 - acc: 0.8672\n",
      "Epoch 63/150\n",
      "8000/8000 [==============================] - 6s 735us/step - loss: 0.3205 - acc: 0.8675\n",
      "Epoch 64/150\n",
      "8000/8000 [==============================] - 6s 755us/step - loss: 0.3212 - acc: 0.8671\n",
      "Epoch 65/150\n",
      "8000/8000 [==============================] - 6s 715us/step - loss: 0.3210 - acc: 0.8674\n",
      "Epoch 66/150\n",
      "8000/8000 [==============================] - 6s 746us/step - loss: 0.3214 - acc: 0.8672TA: 3s  - ET\n",
      "Epoch 67/150\n",
      "8000/8000 [==============================] - 6s 786us/step - loss: 0.3209 - acc: 0.8680\n",
      "Epoch 68/150\n",
      "8000/8000 [==============================] - 6s 761us/step - loss: 0.3200 - acc: 0.8672 ETA: 0s - loss: 0.3201 -\n",
      "Epoch 69/150\n",
      "8000/8000 [==============================] - 6s 779us/step - loss: 0.3207 - acc: 0.8662 4s - los - ETA: 2s - loss: 0.3239 - acc: 0.86 - ETA: 0s - loss: 0.3217 - acc\n",
      "Epoch 70/150\n"
     ]
    },
    {
     "name": "stdout",
     "output_type": "stream",
     "text": [
      "8000/8000 [==============================] - 6s 721us/step - loss: 0.3210 - acc: 0.8664\n",
      "Epoch 71/150\n",
      "8000/8000 [==============================] - 6s 754us/step - loss: 0.3198 - acc: 0.8679\n",
      "Epoch 72/150\n",
      "8000/8000 [==============================] - 6s 790us/step - loss: 0.3194 - acc: 0.8670\n",
      "Epoch 73/150\n",
      "8000/8000 [==============================] - 5s 679us/step - loss: 0.3202 - acc: 0.8671\n",
      "Epoch 74/150\n",
      "8000/8000 [==============================] - 5s 670us/step - loss: 0.3201 - acc: 0.8670\n",
      "Epoch 75/150\n",
      "8000/8000 [==============================] - 6s 694us/step - loss: 0.3197 - acc: 0.8680\n",
      "Epoch 76/150\n",
      "8000/8000 [==============================] - 6s 739us/step - loss: 0.3189 - acc: 0.8656\n",
      "Epoch 77/150\n",
      "8000/8000 [==============================] - 5s 673us/step - loss: 0.3196 - acc: 0.8675\n",
      "Epoch 78/150\n",
      "8000/8000 [==============================] - 6s 736us/step - loss: 0.3191 - acc: 0.8686\n",
      "Epoch 79/150\n",
      "8000/8000 [==============================] - 6s 726us/step - loss: 0.3193 - acc: 0.8670\n",
      "Epoch 80/150\n",
      "8000/8000 [==============================] - 6s 745us/step - loss: 0.3197 - acc: 0.8685 1s - los\n",
      "Epoch 81/150\n",
      "8000/8000 [==============================] - 6s 777us/step - loss: 0.3190 - acc: 0.8689\n",
      "Epoch 82/150\n",
      "8000/8000 [==============================] - 6s 804us/step - loss: 0.3196 - acc: 0.8684 1s -\n",
      "Epoch 83/150\n",
      "8000/8000 [==============================] - 6s 740us/step - loss: 0.3184 - acc: 0.8687\n",
      "Epoch 84/150\n",
      "8000/8000 [==============================] - 6s 768us/step - loss: 0.3190 - acc: 0.8686\n",
      "Epoch 85/150\n",
      "8000/8000 [==============================] - 6s 729us/step - loss: 0.3179 - acc: 0.8681 0s - loss: 0.3210\n",
      "Epoch 86/150\n",
      "8000/8000 [==============================] - 6s 791us/step - loss: 0.3191 - acc: 0.8695\n",
      "Epoch 87/150\n",
      "8000/8000 [==============================] - 6s 751us/step - loss: 0.3177 - acc: 0.8700\n",
      "Epoch 88/150\n",
      "8000/8000 [==============================] - 6s 777us/step - loss: 0.3178 - acc: 0.8711\n",
      "Epoch 89/150\n",
      "8000/8000 [==============================] - 6s 794us/step - loss: 0.3188 - acc: 0.8694\n",
      "Epoch 90/150\n",
      "8000/8000 [==============================] - 6s 771us/step - loss: 0.3185 - acc: 0.8679\n",
      "Epoch 91/150\n",
      "8000/8000 [==============================] - 6s 750us/step - loss: 0.3185 - acc: 0.8671\n",
      "Epoch 92/150\n",
      "8000/8000 [==============================] - 7s 842us/step - loss: 0.3187 - acc: 0.8686\n",
      "Epoch 93/150\n",
      "8000/8000 [==============================] - 6s 744us/step - loss: 0.3178 - acc: 0.8679\n",
      "Epoch 94/150\n",
      "8000/8000 [==============================] - 7s 828us/step - loss: 0.3174 - acc: 0.8667\n",
      "Epoch 95/150\n",
      "8000/8000 [==============================] - 6s 784us/step - loss: 0.3170 - acc: 0.8701 1s - loss: 0.3112 - ac - ETA: 1s - loss: \n",
      "Epoch 96/150\n",
      "8000/8000 [==============================] - 6s 802us/step - loss: 0.3178 - acc: 0.8699\n",
      "Epoch 97/150\n",
      "8000/8000 [==============================] - 7s 839us/step - loss: 0.3176 - acc: 0.8685\n",
      "Epoch 98/150\n",
      "8000/8000 [==============================] - 6s 772us/step - loss: 0.3177 - acc: 0.8686\n",
      "Epoch 99/150\n",
      "8000/8000 [==============================] - 7s 858us/step - loss: 0.3168 - acc: 0.8676 0s - loss: 0.3134 \n",
      "Epoch 100/150\n",
      "8000/8000 [==============================] - 6s 745us/step - loss: 0.3177 - acc: 0.8681\n",
      "Epoch 101/150\n",
      "8000/8000 [==============================] - 7s 846us/step - loss: 0.3178 - acc: 0.8682\n",
      "Epoch 102/150\n",
      "8000/8000 [==============================] - 6s 788us/step - loss: 0.3167 - acc: 0.8681\n",
      "Epoch 103/150\n",
      "8000/8000 [==============================] - 7s 907us/step - loss: 0.3170 - acc: 0.8707\n",
      "Epoch 104/150\n",
      "8000/8000 [==============================] - 6s 812us/step - loss: 0.3164 - acc: 0.8687 3s - los\n",
      "Epoch 105/150\n",
      "8000/8000 [==============================] - 6s 785us/step - loss: 0.3170 - acc: 0.8685\n",
      "Epoch 106/150\n",
      "8000/8000 [==============================] - 7s 870us/step - loss: 0.3168 - acc: 0.8679\n",
      "Epoch 107/150\n",
      "8000/8000 [==============================] - 6s 756us/step - loss: 0.3172 - acc: 0.8681\n",
      "Epoch 108/150\n",
      "8000/8000 [==============================] - 7s 835us/step - loss: 0.3170 - acc: 0.8659\n",
      "Epoch 109/150\n",
      "8000/8000 [==============================] - 6s 772us/step - loss: 0.3165 - acc: 0.8684 1s - \n",
      "Epoch 110/150\n",
      "8000/8000 [==============================] - 7s 827us/step - loss: 0.3165 - acc: 0.8694\n",
      "Epoch 111/150\n",
      "8000/8000 [==============================] - 6s 807us/step - loss: 0.3161 - acc: 0.8680 0s - loss: 0.3206 - a\n",
      "Epoch 112/150\n",
      "8000/8000 [==============================] - 6s 747us/step - loss: 0.3170 - acc: 0.8675\n",
      "Epoch 113/150\n",
      "8000/8000 [==============================] - 7s 836us/step - loss: 0.3165 - acc: 0.8686 2s - - ETA: 0s - loss: 0.\n",
      "Epoch 114/150\n",
      "8000/8000 [==============================] - 6s 762us/step - loss: 0.3172 - acc: 0.8695\n",
      "Epoch 115/150\n",
      "8000/8000 [==============================] - 7s 816us/step - loss: 0.3167 - acc: 0.8684\n",
      "Epoch 116/150\n",
      "8000/8000 [==============================] - 6s 777us/step - loss: 0.3165 - acc: 0.8681 1s - l\n",
      "Epoch 117/150\n",
      "8000/8000 [==============================] - 7s 837us/step - loss: 0.3155 - acc: 0.8691\n",
      "Epoch 118/150\n",
      "8000/8000 [==============================] - 6s 759us/step - loss: 0.3157 - acc: 0.8689\n",
      "Epoch 119/150\n",
      "8000/8000 [==============================] - 6s 803us/step - loss: 0.3159 - acc: 0.8719\n",
      "Epoch 120/150\n",
      "8000/8000 [==============================] - 7s 842us/step - loss: 0.3151 - acc: 0.8709\n",
      "Epoch 121/150\n",
      "8000/8000 [==============================] - 8s 952us/step - loss: 0.3161 - acc: 0.8690\n",
      "Epoch 122/150\n",
      "8000/8000 [==============================] - 6s 770us/step - loss: 0.3158 - acc: 0.8697\n",
      "Epoch 123/150\n",
      "8000/8000 [==============================] - 4s 513us/step - loss: 0.3152 - acc: 0.8716 0s - loss: 0.3165 -\n",
      "Epoch 124/150\n",
      "8000/8000 [==============================] - 5s 600us/step - loss: 0.3152 - acc: 0.8685\n",
      "Epoch 125/150\n",
      "8000/8000 [==============================] - 4s 496us/step - loss: 0.3155 - acc: 0.8695\n",
      "Epoch 126/150\n",
      "8000/8000 [==============================] - 5s 578us/step - loss: 0.3150 - acc: 0.8700 1s - loss: 0\n",
      "Epoch 127/150\n",
      "8000/8000 [==============================] - 4s 562us/step - loss: 0.3158 - acc: 0.8686\n",
      "Epoch 128/150\n",
      "8000/8000 [==============================] - 4s 511us/step - loss: 0.3150 - acc: 0.8702\n",
      "Epoch 129/150\n",
      "8000/8000 [==============================] - 5s 586us/step - loss: 0.3149 - acc: 0.8705 2s - loss: 0.2943 - acc: - - ETA: 0s - loss: 0.3147 \n",
      "Epoch 130/150\n",
      "8000/8000 [==============================] - 4s 518us/step - loss: 0.3144 - acc: 0.8674\n",
      "Epoch 131/150\n",
      "8000/8000 [==============================] - 4s 561us/step - loss: 0.3154 - acc: 0.8692\n",
      "Epoch 132/150\n",
      "8000/8000 [==============================] - 4s 490us/step - loss: 0.3153 - acc: 0.8694 0s - loss: 0.3152 - acc: 0.869\n",
      "Epoch 133/150\n",
      "8000/8000 [==============================] - 4s 549us/step - loss: 0.3145 - acc: 0.8692\n",
      "Epoch 134/150\n",
      "8000/8000 [==============================] - 4s 550us/step - loss: 0.3156 - acc: 0.8689\n",
      "Epoch 135/150\n",
      "8000/8000 [==============================] - 4s 514us/step - loss: 0.3145 - acc: 0.8705\n",
      "Epoch 136/150\n",
      "8000/8000 [==============================] - 4s 513us/step - loss: 0.3153 - acc: 0.8685 1s - loss: 0.3207 -  - ETA: 0s - loss: 0\n",
      "Epoch 137/150\n",
      "8000/8000 [==============================] - 5s 640us/step - loss: 0.3149 - acc: 0.8684 0s - loss: \n",
      "Epoch 138/150\n",
      "8000/8000 [==============================] - 7s 860us/step - loss: 0.3156 - acc: 0.8672 1s - loss:\n",
      "Epoch 139/150\n",
      "8000/8000 [==============================] - 6s 711us/step - loss: 0.3144 - acc: 0.8706\n",
      "Epoch 140/150\n",
      "8000/8000 [==============================] - 6s 788us/step - loss: 0.3153 - acc: 0.8675 3s - loss: 0.314 - ETA: 0s - loss: 0.3149 - acc: \n",
      "Epoch 141/150\n",
      "8000/8000 [==============================] - 6s 748us/step - loss: 0.3149 - acc: 0.8705\n",
      "Epoch 142/150\n",
      "8000/8000 [==============================] - 7s 890us/step - loss: 0.3149 - acc: 0.8684\n",
      "Epoch 143/150\n",
      "8000/8000 [==============================] - 6s 778us/step - loss: 0.3148 - acc: 0.8695\n",
      "Epoch 144/150\n",
      "8000/8000 [==============================] - 7s 825us/step - loss: 0.3149 - acc: 0.8691\n",
      "Epoch 145/150\n",
      "8000/8000 [==============================] - 6s 710us/step - loss: 0.3147 - acc: 0.8707 2s - l - ETA: 1s - loss: \n",
      "Epoch 146/150\n"
     ]
    },
    {
     "name": "stdout",
     "output_type": "stream",
     "text": [
      "8000/8000 [==============================] - 6s 781us/step - loss: 0.3143 - acc: 0.8705\n",
      "Epoch 147/150\n",
      "8000/8000 [==============================] - 6s 693us/step - loss: 0.3150 - acc: 0.8695\n",
      "Epoch 148/150\n",
      "8000/8000 [==============================] - 6s 772us/step - loss: 0.3151 - acc: 0.8700\n",
      "Epoch 149/150\n",
      "8000/8000 [==============================] - 6s 688us/step - loss: 0.3148 - acc: 0.8697 0s - loss: 0.3156 - acc: 0.86\n",
      "Epoch 150/150\n",
      "8000/8000 [==============================] - 6s 704us/step - loss: 0.3146 - acc: 0.8684\n"
     ]
    },
    {
     "data": {
      "text/plain": [
       "<keras.callbacks.History at 0x180e39c59e8>"
      ]
     },
     "execution_count": 23,
     "metadata": {},
     "output_type": "execute_result"
    }
   ],
   "source": [
    "classifier.fit(X_train, y_train, batch_size=10 , nb_epoch=150)"
   ]
  },
  {
   "cell_type": "markdown",
   "metadata": {},
   "source": [
    "We can see that the accuracy and loss of the model on the train dataset is 86% and 0.3146 respectively"
   ]
  },
  {
   "cell_type": "markdown",
   "metadata": {},
   "source": [
    "### Getting the model's predictions o  the test data"
   ]
  },
  {
   "cell_type": "code",
   "execution_count": 24,
   "metadata": {},
   "outputs": [
    {
     "data": {
      "text/plain": [
       "array([[0.02227214],\n",
       "       [0.00981748],\n",
       "       [0.04344913],\n",
       "       ...,\n",
       "       [0.6000265 ],\n",
       "       [0.0856854 ],\n",
       "       [0.2851724 ]], dtype=float32)"
      ]
     },
     "execution_count": 24,
     "metadata": {},
     "output_type": "execute_result"
    }
   ],
   "source": [
    "# These probabilities would help determine which of the customers have high risk of leaving the bank\n",
    "y_pred = classifier.predict(X_test)\n",
    "y_pred"
   ]
  },
  {
   "cell_type": "markdown",
   "metadata": {},
   "source": [
    "From the probabilities obtained above, the bank can segment each of the customers and know the ones to prevent from leaving\n",
    "by developing ideas to keep them."
   ]
  },
  {
   "cell_type": "code",
   "execution_count": 25,
   "metadata": {},
   "outputs": [
    {
     "data": {
      "text/plain": [
       "array([[False],\n",
       "       [False],\n",
       "       [False],\n",
       "       ...,\n",
       "       [ True],\n",
       "       [False],\n",
       "       [False]])"
      ]
     },
     "execution_count": 25,
     "metadata": {},
     "output_type": "execute_result"
    }
   ],
   "source": [
    "# create a threshold for the confution matrics\n",
    "y_pred=(y_pred>0.5)\n",
    "y_pred"
   ]
  },
  {
   "cell_type": "code",
   "execution_count": 26,
   "metadata": {},
   "outputs": [
    {
     "name": "stdout",
     "output_type": "stream",
     "text": [
      "countF :1760 and countT: 240\n"
     ]
    }
   ],
   "source": [
    "countFalse =0\n",
    "countTrue =0\n",
    "for i in y_pred:\n",
    "    if i[0] == False:\n",
    "        countFalse += 1\n",
    "    else:\n",
    "        countTrue += 1\n",
    "print(\"countF :{} and countT: {}\".format(countFalse,countTrue))"
   ]
  },
  {
   "cell_type": "code",
   "execution_count": 27,
   "metadata": {},
   "outputs": [
    {
     "name": "stdout",
     "output_type": "stream",
     "text": [
      "[[1545   62]\n",
      " [ 215  178]]\n"
     ]
    }
   ],
   "source": [
    "# confusion metrics\n",
    "cm = confusion_matrix(y_test,y_pred)\n",
    "print(cm)"
   ]
  },
  {
   "cell_type": "markdown",
   "metadata": {},
   "source": [
    "From our confusion matrix we conclude that:\n",
    "1. **True positive:** 178(We predicted a positive result and it was positive)- the model rightly predicted the ones who left the bank \n",
    "2. **True negative:** 1545(We predicted a negative result and it was negative)-the model rightly predicted the ones who stayed at the bank \n",
    "3. **False positive:** 62(We predicted a positive result and it was negative)-the model predicted that these ones left when they actually stayed\n",
    "4. **False negative:** 215(We predicted a negative result and it was positive)- the model predicted that these ones stayed when they actually left"
   ]
  },
  {
   "cell_type": "code",
   "execution_count": 28,
   "metadata": {},
   "outputs": [
    {
     "name": "stdout",
     "output_type": "stream",
     "text": [
      "              precision    recall  f1-score   support\n",
      "\n",
      "           0       0.88      0.96      0.92      1607\n",
      "           1       0.74      0.45      0.56       393\n",
      "\n",
      "   micro avg       0.86      0.86      0.86      2000\n",
      "   macro avg       0.81      0.71      0.74      2000\n",
      "weighted avg       0.85      0.86      0.85      2000\n",
      "\n"
     ]
    }
   ],
   "source": [
    "#classification report\n",
    "cr = classification_report(y_test, y_pred)\n",
    "print(cr)"
   ]
  }
 ],
 "metadata": {
  "kernelspec": {
   "display_name": "Python 3",
   "language": "python",
   "name": "python3"
  },
  "language_info": {
   "codemirror_mode": {
    "name": "ipython",
    "version": 3
   },
   "file_extension": ".py",
   "mimetype": "text/x-python",
   "name": "python",
   "nbconvert_exporter": "python",
   "pygments_lexer": "ipython3",
   "version": "3.7.1"
  }
 },
 "nbformat": 4,
 "nbformat_minor": 2
}
